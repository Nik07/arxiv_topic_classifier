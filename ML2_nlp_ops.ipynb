{
  "cells": [
    {
      "cell_type": "markdown",
      "id": "39b31922-b475-4e70-b76b-aadc9f1b1163",
      "metadata": {
        "id": "39b31922-b475-4e70-b76b-aadc9f1b1163"
      },
      "source": [
        "# Сервис на трансформерах\n",
        "\n",
        "### **Задача:** Построить ML-сервис с использованием трансформеров с графическим интерфейсом и доступный в интернете\n",
        "\n",
        "На текущий момент демо-сервис классификации научных статей по темам доступен по следующим ссылкам:\n",
        "\n",
        "1. **Телеграм-бот**: [https://t.me/arxiv_topic_classifier_bot](https://t.me/arxiv_topic_classifier_bot)\n",
        "2. **Веб-сервер**: [http://77.73.71.233:7860](http://77.73.71.233:7860)\n",
        "\n",
        "## Этапы решения задачи:\n",
        "\n",
        "1. Выбор задачи\n",
        "2. Планирование решения\n",
        "3. Сбор данных\n",
        "4. Изучение данных\n",
        "5. Подготовка датасета\n",
        "6. Выбор базовой классической модели\n",
        "7. Обучение классической модели\n",
        "8. Оценка классической модели\n",
        "9. Обучение трансформера\n",
        "10. Оценка модели на базе трансформеров\n",
        "11. Сбор дополнительных данных\n",
        "12. Подготовка нового датасета\n",
        "13. Обучение модели\n",
        "14. Оценка модели\n",
        "15. Попытка обучить ещё бóльшую модель\n",
        "16. Выбор модели для прода\n",
        "17. Создание сервисов вокруг обученной модели\n",
        "18. Подготовка сервера для размещения проекта\n",
        "19. Настройка всех компонентов проекта на сервере\n",
        "20. Запуск и тестирование развёрнутого сервиса"
      ]
    },
    {
      "cell_type": "markdown",
      "id": "6e57eeb8-317e-4022-a81d-de1618158e89",
      "metadata": {
        "id": "6e57eeb8-317e-4022-a81d-de1618158e89"
      },
      "source": [
        "## 1. Выбор задачи\n",
        "\n",
        "В качестве типовой задачи, которую имеет смысл решать с помощью трансформеров, предлагается задача классификации научных статей по темам. Так как задание направлено на отработку управления полным циклом разработки сервиса (начиная сбором данных и заканчивая развёрнутым сервисом с графическим интерфейсом), то искать какую-то специальную задачу машинного обучения не представляется целесообразным и можно взять предложенную, то есть:\n",
        "\n",
        "> Нужно построить сервис который принимает название статьи и её abstract, и выдаёт наиболее вероятную тематику статьи: скажем, физика, биология или computer science. В интерфейсе должно быть можно ввести отдельно abstract, отдельно название - и увидеть топ-95% тематик, отсортированных по убыванию вероятности. Если abstract не ввели, нужно классифицировать статью только по названию."
      ]
    },
    {
      "cell_type": "markdown",
      "id": "be49e0da-1830-4aa6-b123-703cc0e4bdcb",
      "metadata": {
        "id": "be49e0da-1830-4aa6-b123-703cc0e4bdcb"
      },
      "source": [
        "## 2. Планирование решения\n",
        "\n",
        "**Глобально задача состоит из 4-х этапов:**\n",
        "\n",
        "1. Сбор данных\n",
        "2. Эксперименты с моделями и выбор лучшей\n",
        "3. Оборачивание модели в сервис\n",
        "4. Развёртывание сервиса на сервере с доступом из интернета\n",
        "\n",
        "### Сбор данных\n",
        "\n",
        "Для первого этапа предлагается взять готовый датасет с метаинформацией о научных статьях, выкладываемых на [arxiv](https://www.kaggle.com/neelshah18/arxivdataset/). Сам датасет есть на kaggle, но данные там представлены не за все годы, а только до 2018-го, поэтому, возможно, потребуется либо найти другой датасет с более полными данными, либо самостоятельно спарсить недостающие данные по API.\n",
        "\n",
        "Сначала попробуем поработать с датасетом с kaggle, а затем, в случае необходимости, увеличим его.\n",
        "\n",
        "### Эксперименты с моделями и выбор лучшей\n",
        "\n",
        "Не смотря на то, что в задании предлагается начать сразу с модели distilbert-base-cased, построенной на трансформерах, начал с самого простого классического классификатора на базе логистической регрессии по следующим причинам:\n",
        "\n",
        "- Трансформеры банально дольше учатся и у них более дорогой инференс. Можно потратить время на исследования и получить модель, которая по качеству будет хуже или сопоставима с простейшей логистической регрессией, и тогда не будет никакого смысла использовать навороченную модель в проде, - вполне можно взять классическую.\n",
        "- Классические модели обучаются быстрее, а значит, скорость итеративного улучшения выше. В том смысле, что если есть какие-то проблемы с данными, самой задачей, подходами, это выяснится быстрее, чем когда брать сразу тяжёлые модели.\n",
        "- Когда сервис уже работает в продакшн потенциально возможны систуации резкого возрастания нагрузки и тяжёлая модель может оказаться перегруженной. Если мы ограничены в ресурсах для горизонтального масштабирования, то поднять несколько инстансов тяжёлой модели может быть не только экономически нецелесообразно, но и невозможно. И чтобы радикально не ухудшать пользовательский опыт - лучше часть запросов перенаправить на менее точную, но маленькую и быструю модель.\n",
        "\n",
        "После того как будет обучена какая-нибудь классическая ML-модель для классификации и зафиксированы её результаты на тестовой выборке - можно обучить простой трансформер. Если после этого останется серьёзное пространство для улучшения (в том числе время) - можно будет попробовать собрать дополнительные данные, попробовать обучить другие модели.\n",
        "\n",
        "По итогу нужно будет выбрать модель, которая пойдёт в прод.\n",
        "\n",
        "### Оборачивание модели в сервис\n",
        "\n",
        "Для того, чтобы обученная модель приносила пользу - необходимо создать вокруг неё полноценный сервис, доступный 24/7 и с удобным интерфейсом. Архитектурно это может выглядеть так:\n",
        "\n",
        "1. Веб-сервер на gradio, через который происходит взаимодействие пользователя с моделью\n",
        "2. Чтобы модель не загружалась в память заново на каждый запрос каждого пользователя её можно вынести в отдельный микросервис.\n",
        "3. Микросервисы связать брокером сообщений\n",
        "\n",
        "Также в качестве интерфейся для взаимодействия с пользователем можно использовать телеграм-бота на поллинге. Плюс такого интерфейса в том, что не требуется иметь белый IP-адрес, по которому должен быть доступен веб-сервер.\n",
        "\n",
        "### Развёртывание сервиса на сервере с доступом из интернета\n",
        "\n",
        "Развернуть весь проект на сервере можно несколькими способами:\n",
        "\n",
        "1. Каждый компонент установить в систему и настроить его. Для веб-сервера, воркера и бота создать systemd-юниты для автоматизации запуска.\n",
        "2. Каждый компонент развернуть в докер-контейнере. Веб-сервер, воркер и бота сбилдить из докер-файла.\n",
        "3. Инфраструктурные компоненты (СУБД, очередь) развернуть в докере, а для веб-сервера, воркера и бота создать systemd-юниты.\n",
        "4. Инфраструктурные компоненты установить в систему, а веб-сервер, воркера и бота поднять в докере.\n",
        "\n",
        " Оптимальным выглядит второй вариант. Он может быть осложнён необходимостью разбираться с NVIDIA Docker, поэтому ML-модель оставил отдельным сервисом в systemd, а всё остальное в докере."
      ]
    },
    {
      "cell_type": "markdown",
      "id": "a6048216-1252-412c-aa2c-9690b84cece4",
      "metadata": {
        "id": "a6048216-1252-412c-aa2c-9690b84cece4"
      },
      "source": [
        "## 3. Сбор данных\n",
        "\n",
        "Первоначальный датасет для задачи лежит на kaggle. Скачать его легко вручную, чтобы не вспоминать где креды для API и не заниматься получением новых. Сохраним скачанный архив в директории **./raw_data**, затем распакуем в эту же директорию."
      ]
    },
    {
      "cell_type": "code",
      "execution_count": null,
      "id": "708083f2-b42e-4bbc-84ba-470d0e209e8b",
      "metadata": {
        "id": "708083f2-b42e-4bbc-84ba-470d0e209e8b"
      },
      "outputs": [],
      "source": [
        "# Импортируем необходимые библиотеки и объекты\n",
        "import json\n",
        "import os\n",
        "import time\n",
        "from ast import literal_eval\n",
        "from datetime import datetime, timedelta\n",
        "\n",
        "import arxiv\n",
        "import evaluate\n",
        "import matplotlib.pyplot as plt\n",
        "import numpy as np\n",
        "import pandas as pd\n",
        "import requests\n",
        "import seaborn as sns\n",
        "import torch\n",
        "from bs4 import BeautifulSoup\n",
        "from datasets import Dataset, DatasetDict\n",
        "from dateutil import parser\n",
        "from sklearn.feature_extraction.text import TfidfVectorizer\n",
        "from sklearn.linear_model import LogisticRegression\n",
        "from sklearn.metrics import classification_report, f1_score, multilabel_confusion_matrix\n",
        "from sklearn.model_selection import train_test_split\n",
        "from sklearn.multiclass import OneVsRestClassifier\n",
        "from sklearn.preprocessing import MultiLabelBinarizer\n",
        "from transformers import (\n",
        "    AutoModelForSequenceClassification,\n",
        "    AutoTokenizer,\n",
        "    DistilBertForSequenceClassification,\n",
        "    DistilBertTokenizerFast,\n",
        "    Trainer,\n",
        "    TrainingArguments,\n",
        ")"
      ]
    },
    {
      "cell_type": "code",
      "execution_count": null,
      "id": "e81d688b-4b31-4274-a18d-f160ca3a7f46",
      "metadata": {
        "id": "e81d688b-4b31-4274-a18d-f160ca3a7f46",
        "outputId": "276ce879-beee-4637-a56f-00cba7bee488"
      },
      "outputs": [
        {
          "name": "stdout",
          "output_type": "stream",
          "text": [
            "Archive:  raw_data/archive.zip\n",
            "  inflating: raw_data/arxivData.json  \n"
          ]
        }
      ],
      "source": [
        "# Распаковываем архив в директорию /raw_data\n",
        "!unzip raw_data/archive.zip -d raw_data"
      ]
    },
    {
      "cell_type": "code",
      "execution_count": null,
      "id": "f4a2fdb3-b48f-4ca2-a5a7-af8910131354",
      "metadata": {
        "id": "f4a2fdb3-b48f-4ca2-a5a7-af8910131354"
      },
      "outputs": [],
      "source": [
        "# Загрузим файл\n",
        "with open(\"raw_data/arxivData.json\", \"r\", encoding=\"utf-8\") as f:\n",
        "    raw_data = json.load(f)"
      ]
    },
    {
      "cell_type": "markdown",
      "id": "ebc39680-46c2-4cb7-b090-0243d02031b1",
      "metadata": {
        "id": "ebc39680-46c2-4cb7-b090-0243d02031b1"
      },
      "source": [
        "## 4. Изучение данных\n",
        "\n",
        "Посмотрим на структуру данных и решим в каком виде будем их использовать для подготовки датасета."
      ]
    },
    {
      "cell_type": "code",
      "execution_count": null,
      "id": "8fde471a-d8b5-45ac-852f-35ae9eb2cc59",
      "metadata": {
        "id": "8fde471a-d8b5-45ac-852f-35ae9eb2cc59",
        "outputId": "c9f8191b-f63d-4758-deb0-0085a6644b14"
      },
      "outputs": [
        {
          "name": "stdout",
          "output_type": "stream",
          "text": [
            "{'author': \"[{'name': 'Ahmed Osman'}, {'name': 'Wojciech Samek'}]\", 'day': 1, 'id': '1802.00209v1', 'link': \"[{'rel': 'alternate', 'href': 'http://arxiv.org/abs/1802.00209v1', 'type': 'text/html'}, {'rel': 'related', 'href': 'http://arxiv.org/pdf/1802.00209v1', 'type': 'application/pdf', 'title': 'pdf'}]\", 'month': 2, 'summary': 'We propose an architecture for VQA which utilizes recurrent layers to\\ngenerate visual and textual attention. The memory characteristic of the\\nproposed recurrent attention units offers a rich joint embedding of visual and\\ntextual features and enables the model to reason relations between several\\nparts of the image and question. Our single model outperforms the first place\\nwinner on the VQA 1.0 dataset, performs within margin to the current\\nstate-of-the-art ensemble model. We also experiment with replacing attention\\nmechanisms in other state-of-the-art models with our implementation and show\\nincreased accuracy. In both cases, our recurrent attention mechanism improves\\nperformance in tasks requiring sequential or relational reasoning on the VQA\\ndataset.', 'tag': \"[{'term': 'cs.AI', 'scheme': 'http://arxiv.org/schemas/atom', 'label': None}, {'term': 'cs.CL', 'scheme': 'http://arxiv.org/schemas/atom', 'label': None}, {'term': 'cs.CV', 'scheme': 'http://arxiv.org/schemas/atom', 'label': None}, {'term': 'cs.NE', 'scheme': 'http://arxiv.org/schemas/atom', 'label': None}, {'term': 'stat.ML', 'scheme': 'http://arxiv.org/schemas/atom', 'label': None}]\", 'title': 'Dual Recurrent Attention Units for Visual Question Answering', 'year': 2018}\n"
          ]
        }
      ],
      "source": [
        "# Посмотрим на первую строчку файла, чтобы понять его структуру\n",
        "print(raw_data[0])"
      ]
    },
    {
      "cell_type": "markdown",
      "id": "9f67134e-22c2-4e64-959a-cccc3b9e2c11",
      "metadata": {
        "id": "9f67134e-22c2-4e64-959a-cccc3b9e2c11"
      },
      "source": [
        "То есть каждая строка такого файла - это данные одной статьи. Из этого нам понадобятся название статьи (**title**), описание статьи (**summary**) и ключ темы, к которым относится статья (лежат в списке по ключу **tag** по ключам **term**). Каждая статья может относиться к нескольким темам. Причём списки в JSON выглядят как строки, поэтому их нужно десериализовать.\n",
        "\n",
        "Также добавим в датасет год статьи, чтобы понять какие годы присутствуют в наборе."
      ]
    },
    {
      "cell_type": "code",
      "execution_count": null,
      "id": "78a6f751-0b81-43e9-951e-a203f0de2192",
      "metadata": {
        "id": "78a6f751-0b81-43e9-951e-a203f0de2192"
      },
      "outputs": [],
      "source": [
        "# Функция, которая из каждой записи о статье сформирует словарь с ключами `year`, `title`, `summary`, `tags`\n",
        "def parse_article_data_json(entry):\n",
        "    try:\n",
        "        tags_raw = literal_eval(entry[\"tag\"])\n",
        "        tags = [tag_dict[\"term\"] for tag_dict in tags_raw]\n",
        "    except (ValueError, SyntaxError, KeyError):\n",
        "        tags = []\n",
        "\n",
        "    return {\n",
        "        \"year\": entry.get(\"year\", None),\n",
        "        \"title\": entry.get(\"title\", \"\").strip(),\n",
        "        \"summary\": entry.get(\"summary\", \"\").replace(\"\\n\", \" \").strip(),\n",
        "        \"tags\": tags\n",
        "    }"
      ]
    },
    {
      "cell_type": "code",
      "execution_count": null,
      "id": "28a1f0fa-ea26-4b97-932b-0102da00c8b5",
      "metadata": {
        "id": "28a1f0fa-ea26-4b97-932b-0102da00c8b5"
      },
      "outputs": [],
      "source": [
        "# Создадим датафрейм из всех записей файла\n",
        "df = pd.DataFrame([parse_article_data_json(article) for article in raw_data])"
      ]
    },
    {
      "cell_type": "code",
      "execution_count": null,
      "id": "8238d9c1-0de3-4ba9-873c-138584773163",
      "metadata": {
        "id": "8238d9c1-0de3-4ba9-873c-138584773163",
        "outputId": "c343249f-b7f2-4489-db9f-e4fa8aac19d3"
      },
      "outputs": [
        {
          "data": {
            "text/html": [
              "<div>\n",
              "<style scoped>\n",
              "    .dataframe tbody tr th:only-of-type {\n",
              "        vertical-align: middle;\n",
              "    }\n",
              "\n",
              "    .dataframe tbody tr th {\n",
              "        vertical-align: top;\n",
              "    }\n",
              "\n",
              "    .dataframe thead th {\n",
              "        text-align: right;\n",
              "    }\n",
              "</style>\n",
              "<table border=\"1\" class=\"dataframe\">\n",
              "  <thead>\n",
              "    <tr style=\"text-align: right;\">\n",
              "      <th></th>\n",
              "      <th>year</th>\n",
              "      <th>title</th>\n",
              "      <th>summary</th>\n",
              "      <th>tags</th>\n",
              "    </tr>\n",
              "  </thead>\n",
              "  <tbody>\n",
              "    <tr>\n",
              "      <th>0</th>\n",
              "      <td>2018</td>\n",
              "      <td>Dual Recurrent Attention Units for Visual Ques...</td>\n",
              "      <td>We propose an architecture for VQA which utili...</td>\n",
              "      <td>[cs.AI, cs.CL, cs.CV, cs.NE, stat.ML]</td>\n",
              "    </tr>\n",
              "    <tr>\n",
              "      <th>1</th>\n",
              "      <td>2016</td>\n",
              "      <td>Sequential Short-Text Classification with Recu...</td>\n",
              "      <td>Recent approaches based on artificial neural n...</td>\n",
              "      <td>[cs.CL, cs.AI, cs.LG, cs.NE, stat.ML]</td>\n",
              "    </tr>\n",
              "    <tr>\n",
              "      <th>2</th>\n",
              "      <td>2016</td>\n",
              "      <td>Multiresolution Recurrent Neural Networks: An ...</td>\n",
              "      <td>We introduce the multiresolution recurrent neu...</td>\n",
              "      <td>[cs.CL, cs.AI, cs.LG, cs.NE, stat.ML, I.5.1; I...</td>\n",
              "    </tr>\n",
              "    <tr>\n",
              "      <th>3</th>\n",
              "      <td>2017</td>\n",
              "      <td>Learning what to share between loosely related...</td>\n",
              "      <td>Multi-task learning is motivated by the observ...</td>\n",
              "      <td>[stat.ML, cs.AI, cs.CL, cs.LG, cs.NE]</td>\n",
              "    </tr>\n",
              "    <tr>\n",
              "      <th>4</th>\n",
              "      <td>2017</td>\n",
              "      <td>A Deep Reinforcement Learning Chatbot</td>\n",
              "      <td>We present MILABOT: a deep reinforcement learn...</td>\n",
              "      <td>[cs.CL, cs.AI, cs.LG, cs.NE, stat.ML, I.5.1; I...</td>\n",
              "    </tr>\n",
              "    <tr>\n",
              "      <th>5</th>\n",
              "      <td>2017</td>\n",
              "      <td>Generating Sentences by Editing Prototypes</td>\n",
              "      <td>We propose a new generative model of sentences...</td>\n",
              "      <td>[cs.CL, cs.AI, cs.LG, cs.NE, stat.ML]</td>\n",
              "    </tr>\n",
              "    <tr>\n",
              "      <th>6</th>\n",
              "      <td>2018</td>\n",
              "      <td>A Deep Reinforcement Learning Chatbot (Short V...</td>\n",
              "      <td>We present MILABOT: a deep reinforcement learn...</td>\n",
              "      <td>[cs.CL, cs.AI, cs.LG, cs.NE, stat.ML, I.5.1; I...</td>\n",
              "    </tr>\n",
              "    <tr>\n",
              "      <th>7</th>\n",
              "      <td>2016</td>\n",
              "      <td>Document Image Coding and Clustering for Scrip...</td>\n",
              "      <td>The paper introduces a new method for discrimi...</td>\n",
              "      <td>[cs.CV, cs.AI, cs.CL, cs.LG, cs.NE, 97R40, 62H...</td>\n",
              "    </tr>\n",
              "    <tr>\n",
              "      <th>8</th>\n",
              "      <td>2016</td>\n",
              "      <td>Tutorial on Answering Questions about Images w...</td>\n",
              "      <td>Together with the development of more accurate...</td>\n",
              "      <td>[cs.CV, cs.AI, cs.CL, cs.LG, cs.NE]</td>\n",
              "    </tr>\n",
              "    <tr>\n",
              "      <th>9</th>\n",
              "      <td>2017</td>\n",
              "      <td>pix2code: Generating Code from a Graphical Use...</td>\n",
              "      <td>Transforming a graphical user interface screen...</td>\n",
              "      <td>[cs.LG, cs.AI, cs.CL, cs.CV, cs.NE, 68T45, I.2...</td>\n",
              "    </tr>\n",
              "  </tbody>\n",
              "</table>\n",
              "</div>"
            ],
            "text/plain": [
              "   year                                              title  \\\n",
              "0  2018  Dual Recurrent Attention Units for Visual Ques...   \n",
              "1  2016  Sequential Short-Text Classification with Recu...   \n",
              "2  2016  Multiresolution Recurrent Neural Networks: An ...   \n",
              "3  2017  Learning what to share between loosely related...   \n",
              "4  2017              A Deep Reinforcement Learning Chatbot   \n",
              "5  2017         Generating Sentences by Editing Prototypes   \n",
              "6  2018  A Deep Reinforcement Learning Chatbot (Short V...   \n",
              "7  2016  Document Image Coding and Clustering for Scrip...   \n",
              "8  2016  Tutorial on Answering Questions about Images w...   \n",
              "9  2017  pix2code: Generating Code from a Graphical Use...   \n",
              "\n",
              "                                             summary  \\\n",
              "0  We propose an architecture for VQA which utili...   \n",
              "1  Recent approaches based on artificial neural n...   \n",
              "2  We introduce the multiresolution recurrent neu...   \n",
              "3  Multi-task learning is motivated by the observ...   \n",
              "4  We present MILABOT: a deep reinforcement learn...   \n",
              "5  We propose a new generative model of sentences...   \n",
              "6  We present MILABOT: a deep reinforcement learn...   \n",
              "7  The paper introduces a new method for discrimi...   \n",
              "8  Together with the development of more accurate...   \n",
              "9  Transforming a graphical user interface screen...   \n",
              "\n",
              "                                                tags  \n",
              "0              [cs.AI, cs.CL, cs.CV, cs.NE, stat.ML]  \n",
              "1              [cs.CL, cs.AI, cs.LG, cs.NE, stat.ML]  \n",
              "2  [cs.CL, cs.AI, cs.LG, cs.NE, stat.ML, I.5.1; I...  \n",
              "3              [stat.ML, cs.AI, cs.CL, cs.LG, cs.NE]  \n",
              "4  [cs.CL, cs.AI, cs.LG, cs.NE, stat.ML, I.5.1; I...  \n",
              "5              [cs.CL, cs.AI, cs.LG, cs.NE, stat.ML]  \n",
              "6  [cs.CL, cs.AI, cs.LG, cs.NE, stat.ML, I.5.1; I...  \n",
              "7  [cs.CV, cs.AI, cs.CL, cs.LG, cs.NE, 97R40, 62H...  \n",
              "8                [cs.CV, cs.AI, cs.CL, cs.LG, cs.NE]  \n",
              "9  [cs.LG, cs.AI, cs.CL, cs.CV, cs.NE, 68T45, I.2...  "
            ]
          },
          "execution_count": 7,
          "metadata": {},
          "output_type": "execute_result"
        }
      ],
      "source": [
        "df.head(10)"
      ]
    },
    {
      "cell_type": "code",
      "execution_count": null,
      "id": "07b12395-401f-4bb0-a04f-636096b24410",
      "metadata": {
        "id": "07b12395-401f-4bb0-a04f-636096b24410",
        "outputId": "18dee7f6-eda5-4060-b354-c8a722306a57"
      },
      "outputs": [
        {
          "data": {
            "text/plain": [
              "2018"
            ]
          },
          "execution_count": 8,
          "metadata": {},
          "output_type": "execute_result"
        }
      ],
      "source": [
        "# Максимальный год статей в датасете\n",
        "df.year.max()"
      ]
    },
    {
      "cell_type": "code",
      "execution_count": null,
      "id": "9737f8af-f4e3-41cd-b1d5-afe8f6196d8d",
      "metadata": {
        "id": "9737f8af-f4e3-41cd-b1d5-afe8f6196d8d",
        "outputId": "06cbe790-fbfb-4270-a0be-bd8fa4e25528"
      },
      "outputs": [
        {
          "data": {
            "text/plain": [
              "1993"
            ]
          },
          "execution_count": 9,
          "metadata": {},
          "output_type": "execute_result"
        }
      ],
      "source": [
        "# Минимальный год статей в датасете\n",
        "df.year.min()"
      ]
    },
    {
      "cell_type": "code",
      "execution_count": null,
      "id": "b1423d89-0818-41a4-a9df-564cf6b42f54",
      "metadata": {
        "id": "b1423d89-0818-41a4-a9df-564cf6b42f54",
        "outputId": "9e3710db-3da3-4acb-a375-e01879e9b9dd"
      },
      "outputs": [
        {
          "data": {
            "text/plain": [
              "41000"
            ]
          },
          "execution_count": 10,
          "metadata": {},
          "output_type": "execute_result"
        }
      ],
      "source": [
        "# Количество строк\n",
        "df.shape[0]"
      ]
    },
    {
      "cell_type": "code",
      "execution_count": null,
      "id": "3639a045-8a0b-4cbe-a57b-b2a5c909a924",
      "metadata": {
        "id": "3639a045-8a0b-4cbe-a57b-b2a5c909a924",
        "outputId": "97d583a5-adb7-416b-e411-2a2f15b1f450"
      },
      "outputs": [
        {
          "data": {
            "text/plain": [
              "14"
            ]
          },
          "execution_count": 11,
          "metadata": {},
          "output_type": "execute_result"
        }
      ],
      "source": [
        "# Проверим дубликаты\n",
        "df.duplicated(subset=['title', 'summary']).sum()"
      ]
    },
    {
      "cell_type": "code",
      "execution_count": null,
      "id": "4e095601-2c59-45fb-844d-91a8f3b1a3eb",
      "metadata": {
        "id": "4e095601-2c59-45fb-844d-91a8f3b1a3eb",
        "outputId": "d4ccb108-f2f1-4bae-e57e-f0d833a93c4d"
      },
      "outputs": [
        {
          "data": {
            "text/html": [
              "<div>\n",
              "<style scoped>\n",
              "    .dataframe tbody tr th:only-of-type {\n",
              "        vertical-align: middle;\n",
              "    }\n",
              "\n",
              "    .dataframe tbody tr th {\n",
              "        vertical-align: top;\n",
              "    }\n",
              "\n",
              "    .dataframe thead th {\n",
              "        text-align: right;\n",
              "    }\n",
              "</style>\n",
              "<table border=\"1\" class=\"dataframe\">\n",
              "  <thead>\n",
              "    <tr style=\"text-align: right;\">\n",
              "      <th></th>\n",
              "      <th>year</th>\n",
              "      <th>title</th>\n",
              "      <th>summary</th>\n",
              "      <th>tags</th>\n",
              "    </tr>\n",
              "  </thead>\n",
              "  <tbody>\n",
              "    <tr>\n",
              "      <th>0</th>\n",
              "      <td>2018</td>\n",
              "      <td>Dual Recurrent Attention Units for Visual Ques...</td>\n",
              "      <td>We propose an architecture for VQA which utili...</td>\n",
              "      <td>[cs.AI, cs.CL, cs.CV, cs.NE, stat.ML]</td>\n",
              "    </tr>\n",
              "    <tr>\n",
              "      <th>1</th>\n",
              "      <td>2016</td>\n",
              "      <td>Sequential Short-Text Classification with Recu...</td>\n",
              "      <td>Recent approaches based on artificial neural n...</td>\n",
              "      <td>[cs.CL, cs.AI, cs.LG, cs.NE, stat.ML]</td>\n",
              "    </tr>\n",
              "    <tr>\n",
              "      <th>2</th>\n",
              "      <td>2016</td>\n",
              "      <td>Multiresolution Recurrent Neural Networks: An ...</td>\n",
              "      <td>We introduce the multiresolution recurrent neu...</td>\n",
              "      <td>[cs.CL, cs.AI, cs.LG, cs.NE, stat.ML, I.5.1; I...</td>\n",
              "    </tr>\n",
              "    <tr>\n",
              "      <th>3</th>\n",
              "      <td>2017</td>\n",
              "      <td>Learning what to share between loosely related...</td>\n",
              "      <td>Multi-task learning is motivated by the observ...</td>\n",
              "      <td>[stat.ML, cs.AI, cs.CL, cs.LG, cs.NE]</td>\n",
              "    </tr>\n",
              "    <tr>\n",
              "      <th>4</th>\n",
              "      <td>2017</td>\n",
              "      <td>A Deep Reinforcement Learning Chatbot</td>\n",
              "      <td>We present MILABOT: a deep reinforcement learn...</td>\n",
              "      <td>[cs.CL, cs.AI, cs.LG, cs.NE, stat.ML, I.5.1; I...</td>\n",
              "    </tr>\n",
              "    <tr>\n",
              "      <th>...</th>\n",
              "      <td>...</td>\n",
              "      <td>...</td>\n",
              "      <td>...</td>\n",
              "      <td>...</td>\n",
              "    </tr>\n",
              "    <tr>\n",
              "      <th>40995</th>\n",
              "      <td>2014</td>\n",
              "      <td>Nearly Tight Bounds on $\\ell_1$ Approximation ...</td>\n",
              "      <td>We study the complexity of learning and approx...</td>\n",
              "      <td>[cs.LG, cs.DS]</td>\n",
              "    </tr>\n",
              "    <tr>\n",
              "      <th>40996</th>\n",
              "      <td>2014</td>\n",
              "      <td>Concurrent bandits and cognitive radio networks</td>\n",
              "      <td>We consider the problem of multiple users targ...</td>\n",
              "      <td>[cs.LG, cs.MA]</td>\n",
              "    </tr>\n",
              "    <tr>\n",
              "      <th>40997</th>\n",
              "      <td>2014</td>\n",
              "      <td>A Comparison of Clustering and Missing Data Me...</td>\n",
              "      <td>In this paper, we compare and analyze clusteri...</td>\n",
              "      <td>[math.NA, cs.LG, 62H30, 91C20, 94A08]</td>\n",
              "    </tr>\n",
              "    <tr>\n",
              "      <th>40998</th>\n",
              "      <td>2014</td>\n",
              "      <td>Applying machine learning to the problem of ch...</td>\n",
              "      <td>Cylindrical algebraic decomposition(CAD) is a ...</td>\n",
              "      <td>[cs.SC, cs.LG, 68W30, 68T05, O3C10, I.2.6]</td>\n",
              "    </tr>\n",
              "    <tr>\n",
              "      <th>40999</th>\n",
              "      <td>2014</td>\n",
              "      <td>A Multi Level Data Fusion Approach for Speaker...</td>\n",
              "      <td>Several speaker identification systems are giv...</td>\n",
              "      <td>[cs.SD, cs.LG]</td>\n",
              "    </tr>\n",
              "  </tbody>\n",
              "</table>\n",
              "<p>40986 rows × 4 columns</p>\n",
              "</div>"
            ],
            "text/plain": [
              "       year                                              title  \\\n",
              "0      2018  Dual Recurrent Attention Units for Visual Ques...   \n",
              "1      2016  Sequential Short-Text Classification with Recu...   \n",
              "2      2016  Multiresolution Recurrent Neural Networks: An ...   \n",
              "3      2017  Learning what to share between loosely related...   \n",
              "4      2017              A Deep Reinforcement Learning Chatbot   \n",
              "...     ...                                                ...   \n",
              "40995  2014  Nearly Tight Bounds on $\\ell_1$ Approximation ...   \n",
              "40996  2014    Concurrent bandits and cognitive radio networks   \n",
              "40997  2014  A Comparison of Clustering and Missing Data Me...   \n",
              "40998  2014  Applying machine learning to the problem of ch...   \n",
              "40999  2014  A Multi Level Data Fusion Approach for Speaker...   \n",
              "\n",
              "                                                 summary  \\\n",
              "0      We propose an architecture for VQA which utili...   \n",
              "1      Recent approaches based on artificial neural n...   \n",
              "2      We introduce the multiresolution recurrent neu...   \n",
              "3      Multi-task learning is motivated by the observ...   \n",
              "4      We present MILABOT: a deep reinforcement learn...   \n",
              "...                                                  ...   \n",
              "40995  We study the complexity of learning and approx...   \n",
              "40996  We consider the problem of multiple users targ...   \n",
              "40997  In this paper, we compare and analyze clusteri...   \n",
              "40998  Cylindrical algebraic decomposition(CAD) is a ...   \n",
              "40999  Several speaker identification systems are giv...   \n",
              "\n",
              "                                                    tags  \n",
              "0                  [cs.AI, cs.CL, cs.CV, cs.NE, stat.ML]  \n",
              "1                  [cs.CL, cs.AI, cs.LG, cs.NE, stat.ML]  \n",
              "2      [cs.CL, cs.AI, cs.LG, cs.NE, stat.ML, I.5.1; I...  \n",
              "3                  [stat.ML, cs.AI, cs.CL, cs.LG, cs.NE]  \n",
              "4      [cs.CL, cs.AI, cs.LG, cs.NE, stat.ML, I.5.1; I...  \n",
              "...                                                  ...  \n",
              "40995                                     [cs.LG, cs.DS]  \n",
              "40996                                     [cs.LG, cs.MA]  \n",
              "40997              [math.NA, cs.LG, 62H30, 91C20, 94A08]  \n",
              "40998         [cs.SC, cs.LG, 68W30, 68T05, O3C10, I.2.6]  \n",
              "40999                                     [cs.SD, cs.LG]  \n",
              "\n",
              "[40986 rows x 4 columns]"
            ]
          },
          "execution_count": 12,
          "metadata": {},
          "output_type": "execute_result"
        }
      ],
      "source": [
        "# Удалим дубликаты\n",
        "df.drop_duplicates(subset=['title', 'summary'])"
      ]
    },
    {
      "cell_type": "markdown",
      "id": "fbee6c73-308a-49fc-a611-5f119450b4a6",
      "metadata": {
        "id": "fbee6c73-308a-49fc-a611-5f119450b4a6"
      },
      "source": [
        "## 5. Подготовка датасета\n",
        "\n",
        "Для того, чтобы перевести коды тем в сами темы, необходимо спарсить классификатор с arxiv.org, который находится здесь: [https://arxiv.org/category_taxonomy](https://arxiv.org/category_taxonomy)."
      ]
    },
    {
      "cell_type": "code",
      "execution_count": null,
      "id": "8eefdef1-bea5-4618-9897-6aa4bdf518d0",
      "metadata": {
        "id": "8eefdef1-bea5-4618-9897-6aa4bdf518d0"
      },
      "outputs": [],
      "source": [
        "# Получим всю страницу с классификатором кодов по темам\n",
        "response = requests.get(\"https://arxiv.org/category_taxonomy\")\n",
        "response.raise_for_status()"
      ]
    },
    {
      "cell_type": "code",
      "execution_count": null,
      "id": "05a3ed27-2764-4c58-b733-96a0ef2923b3",
      "metadata": {
        "id": "05a3ed27-2764-4c58-b733-96a0ef2923b3"
      },
      "outputs": [],
      "source": [
        "# Распарсим HTML в объект BeautifulSoup\n",
        "soup = BeautifulSoup(response.text, \"html.parser\")"
      ]
    },
    {
      "cell_type": "code",
      "execution_count": null,
      "id": "544a0900-cc9c-4ba6-8d9b-72e8c12c22ff",
      "metadata": {
        "id": "544a0900-cc9c-4ba6-8d9b-72e8c12c22ff"
      },
      "outputs": [],
      "source": [
        "# Найдём элемент div, который отвечает за список кодов\n",
        "main_div = soup.find(\"div\", id=\"category_taxonomy_list\")"
      ]
    },
    {
      "cell_type": "code",
      "execution_count": null,
      "id": "b1abf12d-4a3d-4e4d-884c-8c5517685414",
      "metadata": {
        "id": "b1abf12d-4a3d-4e4d-884c-8c5517685414"
      },
      "outputs": [],
      "source": [
        "# Создадим словарь, в который сохраним списки кодов по ключам тем\n",
        "taxonomy = {}"
      ]
    },
    {
      "cell_type": "code",
      "execution_count": null,
      "id": "6433ee64-84e5-43e9-9d10-d20145603722",
      "metadata": {
        "id": "6433ee64-84e5-43e9-9d10-d20145603722"
      },
      "outputs": [],
      "source": [
        "# Получим список кодов для каждой темы и сохраним в словарь\n",
        "for h2 in main_div.find_all(\"h2\", class_=\"accordion-head\"):\n",
        "    category_name = h2.get_text(strip=True)\n",
        "    category_div = h2.find_next_sibling(\"div\")\n",
        "\n",
        "    subcategories = []\n",
        "    for h4 in category_div.find_all(\"h4\"):\n",
        "        if h4.contents:\n",
        "            code = h4.contents[0].strip()  # только первый текстовый узел — код\n",
        "            subcategories.append(code)\n",
        "\n",
        "    taxonomy[category_name] = subcategories"
      ]
    },
    {
      "cell_type": "code",
      "execution_count": null,
      "id": "705a37aa-440e-486d-b362-47a2f800b122",
      "metadata": {
        "id": "705a37aa-440e-486d-b362-47a2f800b122",
        "outputId": "240c986c-d8dc-4863-ec97-86c4c73ed9e3"
      },
      "outputs": [
        {
          "name": "stdout",
          "output_type": "stream",
          "text": [
            "Computer Science: ['cs.AI', 'cs.AR', 'cs.CC', 'cs.CE', 'cs.CG']...\n",
            "Economics: ['econ.EM', 'econ.GN', 'econ.TH']...\n",
            "Electrical Engineering and Systems Science: ['eess.AS', 'eess.IV', 'eess.SP', 'eess.SY']...\n",
            "Mathematics: ['math.AC', 'math.AG', 'math.AP', 'math.AT', 'math.CA']...\n",
            "Physics: ['astro-ph.CO', 'astro-ph.EP', 'astro-ph.GA', 'astro-ph.HE', 'astro-ph.IM']...\n",
            "Quantitative Biology: ['q-bio.BM', 'q-bio.CB', 'q-bio.GN', 'q-bio.MN', 'q-bio.NC']...\n",
            "Quantitative Finance: ['q-fin.CP', 'q-fin.EC', 'q-fin.GN', 'q-fin.MF', 'q-fin.PM']...\n",
            "Statistics: ['stat.AP', 'stat.CO', 'stat.ME', 'stat.ML', 'stat.OT']...\n"
          ]
        }
      ],
      "source": [
        "# Проверим, что получилось то, что ожидается\n",
        "for category, codes in taxonomy.items():\n",
        "    print(f\"{category}: {codes[:5]}...\")"
      ]
    },
    {
      "cell_type": "code",
      "execution_count": null,
      "id": "ea672b4a-06e6-4e4b-8bd8-7391596e7d07",
      "metadata": {
        "id": "ea672b4a-06e6-4e4b-8bd8-7391596e7d07"
      },
      "outputs": [],
      "source": [
        "# Для того, чтобы было проще преобразовать коды в темы в датафрейме \"развернём\" словарь так, чтобы кодами были ключи, а значениями - темы\n",
        "tag_to_topic = {}\n",
        "for topic, tag_list in taxonomy.items():\n",
        "    for tag in tag_list:\n",
        "        tag_to_topic[tag] = topic"
      ]
    },
    {
      "cell_type": "code",
      "execution_count": null,
      "id": "15392bf8-9f79-4e28-921a-c5cda68cebbd",
      "metadata": {
        "id": "15392bf8-9f79-4e28-921a-c5cda68cebbd"
      },
      "outputs": [],
      "source": [
        "# Добавим в датафрейм колонку topics со списками тем статьи\n",
        "df['topics'] = df['tags'].apply(lambda x: list({tag_to_topic.get(tag) for tag in x if tag in tag_to_topic}))"
      ]
    },
    {
      "cell_type": "code",
      "execution_count": null,
      "id": "f2479a85-8232-436e-9061-297a85ad19f5",
      "metadata": {
        "id": "f2479a85-8232-436e-9061-297a85ad19f5",
        "outputId": "684d3f44-530a-4511-a3f0-0a823df84cb5"
      },
      "outputs": [
        {
          "data": {
            "text/html": [
              "<div>\n",
              "<style scoped>\n",
              "    .dataframe tbody tr th:only-of-type {\n",
              "        vertical-align: middle;\n",
              "    }\n",
              "\n",
              "    .dataframe tbody tr th {\n",
              "        vertical-align: top;\n",
              "    }\n",
              "\n",
              "    .dataframe thead th {\n",
              "        text-align: right;\n",
              "    }\n",
              "</style>\n",
              "<table border=\"1\" class=\"dataframe\">\n",
              "  <thead>\n",
              "    <tr style=\"text-align: right;\">\n",
              "      <th></th>\n",
              "      <th>year</th>\n",
              "      <th>title</th>\n",
              "      <th>summary</th>\n",
              "      <th>tags</th>\n",
              "      <th>topics</th>\n",
              "    </tr>\n",
              "  </thead>\n",
              "  <tbody>\n",
              "    <tr>\n",
              "      <th>0</th>\n",
              "      <td>2018</td>\n",
              "      <td>Dual Recurrent Attention Units for Visual Ques...</td>\n",
              "      <td>We propose an architecture for VQA which utili...</td>\n",
              "      <td>[cs.AI, cs.CL, cs.CV, cs.NE, stat.ML]</td>\n",
              "      <td>[Statistics, Computer Science]</td>\n",
              "    </tr>\n",
              "    <tr>\n",
              "      <th>1</th>\n",
              "      <td>2016</td>\n",
              "      <td>Sequential Short-Text Classification with Recu...</td>\n",
              "      <td>Recent approaches based on artificial neural n...</td>\n",
              "      <td>[cs.CL, cs.AI, cs.LG, cs.NE, stat.ML]</td>\n",
              "      <td>[Statistics, Computer Science]</td>\n",
              "    </tr>\n",
              "    <tr>\n",
              "      <th>2</th>\n",
              "      <td>2016</td>\n",
              "      <td>Multiresolution Recurrent Neural Networks: An ...</td>\n",
              "      <td>We introduce the multiresolution recurrent neu...</td>\n",
              "      <td>[cs.CL, cs.AI, cs.LG, cs.NE, stat.ML, I.5.1; I...</td>\n",
              "      <td>[Statistics, Computer Science]</td>\n",
              "    </tr>\n",
              "    <tr>\n",
              "      <th>3</th>\n",
              "      <td>2017</td>\n",
              "      <td>Learning what to share between loosely related...</td>\n",
              "      <td>Multi-task learning is motivated by the observ...</td>\n",
              "      <td>[stat.ML, cs.AI, cs.CL, cs.LG, cs.NE]</td>\n",
              "      <td>[Computer Science, Statistics]</td>\n",
              "    </tr>\n",
              "    <tr>\n",
              "      <th>4</th>\n",
              "      <td>2017</td>\n",
              "      <td>A Deep Reinforcement Learning Chatbot</td>\n",
              "      <td>We present MILABOT: a deep reinforcement learn...</td>\n",
              "      <td>[cs.CL, cs.AI, cs.LG, cs.NE, stat.ML, I.5.1; I...</td>\n",
              "      <td>[Statistics, Computer Science]</td>\n",
              "    </tr>\n",
              "    <tr>\n",
              "      <th>5</th>\n",
              "      <td>2017</td>\n",
              "      <td>Generating Sentences by Editing Prototypes</td>\n",
              "      <td>We propose a new generative model of sentences...</td>\n",
              "      <td>[cs.CL, cs.AI, cs.LG, cs.NE, stat.ML]</td>\n",
              "      <td>[Statistics, Computer Science]</td>\n",
              "    </tr>\n",
              "    <tr>\n",
              "      <th>6</th>\n",
              "      <td>2018</td>\n",
              "      <td>A Deep Reinforcement Learning Chatbot (Short V...</td>\n",
              "      <td>We present MILABOT: a deep reinforcement learn...</td>\n",
              "      <td>[cs.CL, cs.AI, cs.LG, cs.NE, stat.ML, I.5.1; I...</td>\n",
              "      <td>[Statistics, Computer Science]</td>\n",
              "    </tr>\n",
              "    <tr>\n",
              "      <th>7</th>\n",
              "      <td>2016</td>\n",
              "      <td>Document Image Coding and Clustering for Scrip...</td>\n",
              "      <td>The paper introduces a new method for discrimi...</td>\n",
              "      <td>[cs.CV, cs.AI, cs.CL, cs.LG, cs.NE, 97R40, 62H...</td>\n",
              "      <td>[Computer Science]</td>\n",
              "    </tr>\n",
              "    <tr>\n",
              "      <th>8</th>\n",
              "      <td>2016</td>\n",
              "      <td>Tutorial on Answering Questions about Images w...</td>\n",
              "      <td>Together with the development of more accurate...</td>\n",
              "      <td>[cs.CV, cs.AI, cs.CL, cs.LG, cs.NE]</td>\n",
              "      <td>[Computer Science]</td>\n",
              "    </tr>\n",
              "    <tr>\n",
              "      <th>9</th>\n",
              "      <td>2017</td>\n",
              "      <td>pix2code: Generating Code from a Graphical Use...</td>\n",
              "      <td>Transforming a graphical user interface screen...</td>\n",
              "      <td>[cs.LG, cs.AI, cs.CL, cs.CV, cs.NE, 68T45, I.2...</td>\n",
              "      <td>[Computer Science]</td>\n",
              "    </tr>\n",
              "  </tbody>\n",
              "</table>\n",
              "</div>"
            ],
            "text/plain": [
              "   year                                              title  \\\n",
              "0  2018  Dual Recurrent Attention Units for Visual Ques...   \n",
              "1  2016  Sequential Short-Text Classification with Recu...   \n",
              "2  2016  Multiresolution Recurrent Neural Networks: An ...   \n",
              "3  2017  Learning what to share between loosely related...   \n",
              "4  2017              A Deep Reinforcement Learning Chatbot   \n",
              "5  2017         Generating Sentences by Editing Prototypes   \n",
              "6  2018  A Deep Reinforcement Learning Chatbot (Short V...   \n",
              "7  2016  Document Image Coding and Clustering for Scrip...   \n",
              "8  2016  Tutorial on Answering Questions about Images w...   \n",
              "9  2017  pix2code: Generating Code from a Graphical Use...   \n",
              "\n",
              "                                             summary  \\\n",
              "0  We propose an architecture for VQA which utili...   \n",
              "1  Recent approaches based on artificial neural n...   \n",
              "2  We introduce the multiresolution recurrent neu...   \n",
              "3  Multi-task learning is motivated by the observ...   \n",
              "4  We present MILABOT: a deep reinforcement learn...   \n",
              "5  We propose a new generative model of sentences...   \n",
              "6  We present MILABOT: a deep reinforcement learn...   \n",
              "7  The paper introduces a new method for discrimi...   \n",
              "8  Together with the development of more accurate...   \n",
              "9  Transforming a graphical user interface screen...   \n",
              "\n",
              "                                                tags  \\\n",
              "0              [cs.AI, cs.CL, cs.CV, cs.NE, stat.ML]   \n",
              "1              [cs.CL, cs.AI, cs.LG, cs.NE, stat.ML]   \n",
              "2  [cs.CL, cs.AI, cs.LG, cs.NE, stat.ML, I.5.1; I...   \n",
              "3              [stat.ML, cs.AI, cs.CL, cs.LG, cs.NE]   \n",
              "4  [cs.CL, cs.AI, cs.LG, cs.NE, stat.ML, I.5.1; I...   \n",
              "5              [cs.CL, cs.AI, cs.LG, cs.NE, stat.ML]   \n",
              "6  [cs.CL, cs.AI, cs.LG, cs.NE, stat.ML, I.5.1; I...   \n",
              "7  [cs.CV, cs.AI, cs.CL, cs.LG, cs.NE, 97R40, 62H...   \n",
              "8                [cs.CV, cs.AI, cs.CL, cs.LG, cs.NE]   \n",
              "9  [cs.LG, cs.AI, cs.CL, cs.CV, cs.NE, 68T45, I.2...   \n",
              "\n",
              "                           topics  \n",
              "0  [Statistics, Computer Science]  \n",
              "1  [Statistics, Computer Science]  \n",
              "2  [Statistics, Computer Science]  \n",
              "3  [Computer Science, Statistics]  \n",
              "4  [Statistics, Computer Science]  \n",
              "5  [Statistics, Computer Science]  \n",
              "6  [Statistics, Computer Science]  \n",
              "7              [Computer Science]  \n",
              "8              [Computer Science]  \n",
              "9              [Computer Science]  "
            ]
          },
          "execution_count": 21,
          "metadata": {},
          "output_type": "execute_result"
        }
      ],
      "source": [
        "df.head(10)"
      ]
    },
    {
      "cell_type": "code",
      "execution_count": null,
      "id": "2e439b4b-6693-4c58-85d6-7117e7399614",
      "metadata": {
        "id": "2e439b4b-6693-4c58-85d6-7117e7399614"
      },
      "outputs": [],
      "source": [
        "# Добавим в датафрейм колонку `text`, объединяющую `title` и `summary`\n",
        "df['text'] = df['title'] + ' ' + df['summary']"
      ]
    },
    {
      "cell_type": "code",
      "execution_count": null,
      "id": "9da2497a-21a6-4826-a0a0-aa56c980ec84",
      "metadata": {
        "id": "9da2497a-21a6-4826-a0a0-aa56c980ec84"
      },
      "outputs": [],
      "source": [
        "# Целевая переменная находится в колонке topics\n",
        "y = df['topics']"
      ]
    },
    {
      "cell_type": "markdown",
      "id": "f43e5183-86f8-440d-aa81-5d5b56f8f93a",
      "metadata": {
        "id": "f43e5183-86f8-440d-aa81-5d5b56f8f93a"
      },
      "source": [
        "## 6. Выбор базовой классической модели"
      ]
    },
    {
      "cell_type": "code",
      "execution_count": null,
      "id": "152672fa-b707-4e06-a58e-126752846b61",
      "metadata": {
        "id": "152672fa-b707-4e06-a58e-126752846b61"
      },
      "outputs": [],
      "source": [
        "# Так как каждую статью потенциально можно отнести к нескольким классам, то это задача классификации с множественными метками\n",
        "mlb = MultiLabelBinarizer()\n",
        "Y = mlb.fit_transform(y)"
      ]
    },
    {
      "cell_type": "code",
      "execution_count": null,
      "id": "39a2269e-fee7-40c7-a229-c92f5a108e02",
      "metadata": {
        "id": "39a2269e-fee7-40c7-a229-c92f5a108e02"
      },
      "outputs": [],
      "source": [
        "# Для классических моделей машинного обучения подойдёт TF-IDF-векторизация\n",
        "vectorizer = TfidfVectorizer(max_features=10000, ngram_range=(1, 2))\n",
        "X = vectorizer.fit_transform(df['text'])"
      ]
    },
    {
      "cell_type": "code",
      "execution_count": null,
      "id": "ca239756-1a08-4d4b-a07c-1087af5c5e6c",
      "metadata": {
        "id": "ca239756-1a08-4d4b-a07c-1087af5c5e6c"
      },
      "outputs": [],
      "source": [
        "# Разбиваем датасет на тренировочную и тестовую выборки\n",
        "X_train, X_test, Y_train, Y_test = train_test_split(X, Y, test_size=0.2, random_state=42)"
      ]
    },
    {
      "cell_type": "markdown",
      "id": "bbacc575-932d-4e80-8a05-dde0c51dd2bd",
      "metadata": {
        "id": "bbacc575-932d-4e80-8a05-dde0c51dd2bd"
      },
      "source": [
        "Так как у нас задача мультилейбловой классификации, а логистическая регрессия решает по умолчанию мультиклассовую задачу, то нужно, чтобы каждый класс решался независимо, как отдельная бинарная классификация:\n",
        "```\n",
        "document → Physics?   → 0.95\n",
        "document → Math?      → 0.88\n",
        "document → Econ?      → 0.03\n",
        "```\n",
        "\n",
        "Для этого нужно взять `OneVsRestClassifier(LogisticRegression)`, который обучит `n` независимых моделей логистической регрессии."
      ]
    },
    {
      "cell_type": "code",
      "execution_count": null,
      "id": "478a0ee6-96e3-4ca8-ad85-7a648a9c87d9",
      "metadata": {
        "id": "478a0ee6-96e3-4ca8-ad85-7a648a9c87d9"
      },
      "outputs": [],
      "source": [
        "# Модель для мультилейбловой классификации\n",
        "clf = OneVsRestClassifier(LogisticRegression(max_iter=1000))"
      ]
    },
    {
      "cell_type": "markdown",
      "id": "58d26283-dd3e-44a9-9568-01706719da74",
      "metadata": {
        "id": "58d26283-dd3e-44a9-9568-01706719da74"
      },
      "source": [
        "## 7. Обучение классической модели"
      ]
    },
    {
      "cell_type": "code",
      "execution_count": null,
      "id": "9de421a4-c8e2-4274-ad2a-502592b7a20f",
      "metadata": {
        "id": "9de421a4-c8e2-4274-ad2a-502592b7a20f",
        "outputId": "e819d6f0-23f3-4aaf-f3db-6bc58bfa20d2"
      },
      "outputs": [
        {
          "data": {
            "text/html": [
              "<style>#sk-container-id-1 {\n",
              "  /* Definition of color scheme common for light and dark mode */\n",
              "  --sklearn-color-text: black;\n",
              "  --sklearn-color-line: gray;\n",
              "  /* Definition of color scheme for unfitted estimators */\n",
              "  --sklearn-color-unfitted-level-0: #fff5e6;\n",
              "  --sklearn-color-unfitted-level-1: #f6e4d2;\n",
              "  --sklearn-color-unfitted-level-2: #ffe0b3;\n",
              "  --sklearn-color-unfitted-level-3: chocolate;\n",
              "  /* Definition of color scheme for fitted estimators */\n",
              "  --sklearn-color-fitted-level-0: #f0f8ff;\n",
              "  --sklearn-color-fitted-level-1: #d4ebff;\n",
              "  --sklearn-color-fitted-level-2: #b3dbfd;\n",
              "  --sklearn-color-fitted-level-3: cornflowerblue;\n",
              "\n",
              "  /* Specific color for light theme */\n",
              "  --sklearn-color-text-on-default-background: var(--sg-text-color, var(--theme-code-foreground, var(--jp-content-font-color1, black)));\n",
              "  --sklearn-color-background: var(--sg-background-color, var(--theme-background, var(--jp-layout-color0, white)));\n",
              "  --sklearn-color-border-box: var(--sg-text-color, var(--theme-code-foreground, var(--jp-content-font-color1, black)));\n",
              "  --sklearn-color-icon: #696969;\n",
              "\n",
              "  @media (prefers-color-scheme: dark) {\n",
              "    /* Redefinition of color scheme for dark theme */\n",
              "    --sklearn-color-text-on-default-background: var(--sg-text-color, var(--theme-code-foreground, var(--jp-content-font-color1, white)));\n",
              "    --sklearn-color-background: var(--sg-background-color, var(--theme-background, var(--jp-layout-color0, #111)));\n",
              "    --sklearn-color-border-box: var(--sg-text-color, var(--theme-code-foreground, var(--jp-content-font-color1, white)));\n",
              "    --sklearn-color-icon: #878787;\n",
              "  }\n",
              "}\n",
              "\n",
              "#sk-container-id-1 {\n",
              "  color: var(--sklearn-color-text);\n",
              "}\n",
              "\n",
              "#sk-container-id-1 pre {\n",
              "  padding: 0;\n",
              "}\n",
              "\n",
              "#sk-container-id-1 input.sk-hidden--visually {\n",
              "  border: 0;\n",
              "  clip: rect(1px 1px 1px 1px);\n",
              "  clip: rect(1px, 1px, 1px, 1px);\n",
              "  height: 1px;\n",
              "  margin: -1px;\n",
              "  overflow: hidden;\n",
              "  padding: 0;\n",
              "  position: absolute;\n",
              "  width: 1px;\n",
              "}\n",
              "\n",
              "#sk-container-id-1 div.sk-dashed-wrapped {\n",
              "  border: 1px dashed var(--sklearn-color-line);\n",
              "  margin: 0 0.4em 0.5em 0.4em;\n",
              "  box-sizing: border-box;\n",
              "  padding-bottom: 0.4em;\n",
              "  background-color: var(--sklearn-color-background);\n",
              "}\n",
              "\n",
              "#sk-container-id-1 div.sk-container {\n",
              "  /* jupyter's `normalize.less` sets `[hidden] { display: none; }`\n",
              "     but bootstrap.min.css set `[hidden] { display: none !important; }`\n",
              "     so we also need the `!important` here to be able to override the\n",
              "     default hidden behavior on the sphinx rendered scikit-learn.org.\n",
              "     See: https://github.com/scikit-learn/scikit-learn/issues/21755 */\n",
              "  display: inline-block !important;\n",
              "  position: relative;\n",
              "}\n",
              "\n",
              "#sk-container-id-1 div.sk-text-repr-fallback {\n",
              "  display: none;\n",
              "}\n",
              "\n",
              "div.sk-parallel-item,\n",
              "div.sk-serial,\n",
              "div.sk-item {\n",
              "  /* draw centered vertical line to link estimators */\n",
              "  background-image: linear-gradient(var(--sklearn-color-text-on-default-background), var(--sklearn-color-text-on-default-background));\n",
              "  background-size: 2px 100%;\n",
              "  background-repeat: no-repeat;\n",
              "  background-position: center center;\n",
              "}\n",
              "\n",
              "/* Parallel-specific style estimator block */\n",
              "\n",
              "#sk-container-id-1 div.sk-parallel-item::after {\n",
              "  content: \"\";\n",
              "  width: 100%;\n",
              "  border-bottom: 2px solid var(--sklearn-color-text-on-default-background);\n",
              "  flex-grow: 1;\n",
              "}\n",
              "\n",
              "#sk-container-id-1 div.sk-parallel {\n",
              "  display: flex;\n",
              "  align-items: stretch;\n",
              "  justify-content: center;\n",
              "  background-color: var(--sklearn-color-background);\n",
              "  position: relative;\n",
              "}\n",
              "\n",
              "#sk-container-id-1 div.sk-parallel-item {\n",
              "  display: flex;\n",
              "  flex-direction: column;\n",
              "}\n",
              "\n",
              "#sk-container-id-1 div.sk-parallel-item:first-child::after {\n",
              "  align-self: flex-end;\n",
              "  width: 50%;\n",
              "}\n",
              "\n",
              "#sk-container-id-1 div.sk-parallel-item:last-child::after {\n",
              "  align-self: flex-start;\n",
              "  width: 50%;\n",
              "}\n",
              "\n",
              "#sk-container-id-1 div.sk-parallel-item:only-child::after {\n",
              "  width: 0;\n",
              "}\n",
              "\n",
              "/* Serial-specific style estimator block */\n",
              "\n",
              "#sk-container-id-1 div.sk-serial {\n",
              "  display: flex;\n",
              "  flex-direction: column;\n",
              "  align-items: center;\n",
              "  background-color: var(--sklearn-color-background);\n",
              "  padding-right: 1em;\n",
              "  padding-left: 1em;\n",
              "}\n",
              "\n",
              "\n",
              "/* Toggleable style: style used for estimator/Pipeline/ColumnTransformer box that is\n",
              "clickable and can be expanded/collapsed.\n",
              "- Pipeline and ColumnTransformer use this feature and define the default style\n",
              "- Estimators will overwrite some part of the style using the `sk-estimator` class\n",
              "*/\n",
              "\n",
              "/* Pipeline and ColumnTransformer style (default) */\n",
              "\n",
              "#sk-container-id-1 div.sk-toggleable {\n",
              "  /* Default theme specific background. It is overwritten whether we have a\n",
              "  specific estimator or a Pipeline/ColumnTransformer */\n",
              "  background-color: var(--sklearn-color-background);\n",
              "}\n",
              "\n",
              "/* Toggleable label */\n",
              "#sk-container-id-1 label.sk-toggleable__label {\n",
              "  cursor: pointer;\n",
              "  display: block;\n",
              "  width: 100%;\n",
              "  margin-bottom: 0;\n",
              "  padding: 0.5em;\n",
              "  box-sizing: border-box;\n",
              "  text-align: center;\n",
              "}\n",
              "\n",
              "#sk-container-id-1 label.sk-toggleable__label-arrow:before {\n",
              "  /* Arrow on the left of the label */\n",
              "  content: \"▸\";\n",
              "  float: left;\n",
              "  margin-right: 0.25em;\n",
              "  color: var(--sklearn-color-icon);\n",
              "}\n",
              "\n",
              "#sk-container-id-1 label.sk-toggleable__label-arrow:hover:before {\n",
              "  color: var(--sklearn-color-text);\n",
              "}\n",
              "\n",
              "/* Toggleable content - dropdown */\n",
              "\n",
              "#sk-container-id-1 div.sk-toggleable__content {\n",
              "  max-height: 0;\n",
              "  max-width: 0;\n",
              "  overflow: hidden;\n",
              "  text-align: left;\n",
              "  /* unfitted */\n",
              "  background-color: var(--sklearn-color-unfitted-level-0);\n",
              "}\n",
              "\n",
              "#sk-container-id-1 div.sk-toggleable__content.fitted {\n",
              "  /* fitted */\n",
              "  background-color: var(--sklearn-color-fitted-level-0);\n",
              "}\n",
              "\n",
              "#sk-container-id-1 div.sk-toggleable__content pre {\n",
              "  margin: 0.2em;\n",
              "  border-radius: 0.25em;\n",
              "  color: var(--sklearn-color-text);\n",
              "  /* unfitted */\n",
              "  background-color: var(--sklearn-color-unfitted-level-0);\n",
              "}\n",
              "\n",
              "#sk-container-id-1 div.sk-toggleable__content.fitted pre {\n",
              "  /* unfitted */\n",
              "  background-color: var(--sklearn-color-fitted-level-0);\n",
              "}\n",
              "\n",
              "#sk-container-id-1 input.sk-toggleable__control:checked~div.sk-toggleable__content {\n",
              "  /* Expand drop-down */\n",
              "  max-height: 200px;\n",
              "  max-width: 100%;\n",
              "  overflow: auto;\n",
              "}\n",
              "\n",
              "#sk-container-id-1 input.sk-toggleable__control:checked~label.sk-toggleable__label-arrow:before {\n",
              "  content: \"▾\";\n",
              "}\n",
              "\n",
              "/* Pipeline/ColumnTransformer-specific style */\n",
              "\n",
              "#sk-container-id-1 div.sk-label input.sk-toggleable__control:checked~label.sk-toggleable__label {\n",
              "  color: var(--sklearn-color-text);\n",
              "  background-color: var(--sklearn-color-unfitted-level-2);\n",
              "}\n",
              "\n",
              "#sk-container-id-1 div.sk-label.fitted input.sk-toggleable__control:checked~label.sk-toggleable__label {\n",
              "  background-color: var(--sklearn-color-fitted-level-2);\n",
              "}\n",
              "\n",
              "/* Estimator-specific style */\n",
              "\n",
              "/* Colorize estimator box */\n",
              "#sk-container-id-1 div.sk-estimator input.sk-toggleable__control:checked~label.sk-toggleable__label {\n",
              "  /* unfitted */\n",
              "  background-color: var(--sklearn-color-unfitted-level-2);\n",
              "}\n",
              "\n",
              "#sk-container-id-1 div.sk-estimator.fitted input.sk-toggleable__control:checked~label.sk-toggleable__label {\n",
              "  /* fitted */\n",
              "  background-color: var(--sklearn-color-fitted-level-2);\n",
              "}\n",
              "\n",
              "#sk-container-id-1 div.sk-label label.sk-toggleable__label,\n",
              "#sk-container-id-1 div.sk-label label {\n",
              "  /* The background is the default theme color */\n",
              "  color: var(--sklearn-color-text-on-default-background);\n",
              "}\n",
              "\n",
              "/* On hover, darken the color of the background */\n",
              "#sk-container-id-1 div.sk-label:hover label.sk-toggleable__label {\n",
              "  color: var(--sklearn-color-text);\n",
              "  background-color: var(--sklearn-color-unfitted-level-2);\n",
              "}\n",
              "\n",
              "/* Label box, darken color on hover, fitted */\n",
              "#sk-container-id-1 div.sk-label.fitted:hover label.sk-toggleable__label.fitted {\n",
              "  color: var(--sklearn-color-text);\n",
              "  background-color: var(--sklearn-color-fitted-level-2);\n",
              "}\n",
              "\n",
              "/* Estimator label */\n",
              "\n",
              "#sk-container-id-1 div.sk-label label {\n",
              "  font-family: monospace;\n",
              "  font-weight: bold;\n",
              "  display: inline-block;\n",
              "  line-height: 1.2em;\n",
              "}\n",
              "\n",
              "#sk-container-id-1 div.sk-label-container {\n",
              "  text-align: center;\n",
              "}\n",
              "\n",
              "/* Estimator-specific */\n",
              "#sk-container-id-1 div.sk-estimator {\n",
              "  font-family: monospace;\n",
              "  border: 1px dotted var(--sklearn-color-border-box);\n",
              "  border-radius: 0.25em;\n",
              "  box-sizing: border-box;\n",
              "  margin-bottom: 0.5em;\n",
              "  /* unfitted */\n",
              "  background-color: var(--sklearn-color-unfitted-level-0);\n",
              "}\n",
              "\n",
              "#sk-container-id-1 div.sk-estimator.fitted {\n",
              "  /* fitted */\n",
              "  background-color: var(--sklearn-color-fitted-level-0);\n",
              "}\n",
              "\n",
              "/* on hover */\n",
              "#sk-container-id-1 div.sk-estimator:hover {\n",
              "  /* unfitted */\n",
              "  background-color: var(--sklearn-color-unfitted-level-2);\n",
              "}\n",
              "\n",
              "#sk-container-id-1 div.sk-estimator.fitted:hover {\n",
              "  /* fitted */\n",
              "  background-color: var(--sklearn-color-fitted-level-2);\n",
              "}\n",
              "\n",
              "/* Specification for estimator info (e.g. \"i\" and \"?\") */\n",
              "\n",
              "/* Common style for \"i\" and \"?\" */\n",
              "\n",
              ".sk-estimator-doc-link,\n",
              "a:link.sk-estimator-doc-link,\n",
              "a:visited.sk-estimator-doc-link {\n",
              "  float: right;\n",
              "  font-size: smaller;\n",
              "  line-height: 1em;\n",
              "  font-family: monospace;\n",
              "  background-color: var(--sklearn-color-background);\n",
              "  border-radius: 1em;\n",
              "  height: 1em;\n",
              "  width: 1em;\n",
              "  text-decoration: none !important;\n",
              "  margin-left: 1ex;\n",
              "  /* unfitted */\n",
              "  border: var(--sklearn-color-unfitted-level-1) 1pt solid;\n",
              "  color: var(--sklearn-color-unfitted-level-1);\n",
              "}\n",
              "\n",
              ".sk-estimator-doc-link.fitted,\n",
              "a:link.sk-estimator-doc-link.fitted,\n",
              "a:visited.sk-estimator-doc-link.fitted {\n",
              "  /* fitted */\n",
              "  border: var(--sklearn-color-fitted-level-1) 1pt solid;\n",
              "  color: var(--sklearn-color-fitted-level-1);\n",
              "}\n",
              "\n",
              "/* On hover */\n",
              "div.sk-estimator:hover .sk-estimator-doc-link:hover,\n",
              ".sk-estimator-doc-link:hover,\n",
              "div.sk-label-container:hover .sk-estimator-doc-link:hover,\n",
              ".sk-estimator-doc-link:hover {\n",
              "  /* unfitted */\n",
              "  background-color: var(--sklearn-color-unfitted-level-3);\n",
              "  color: var(--sklearn-color-background);\n",
              "  text-decoration: none;\n",
              "}\n",
              "\n",
              "div.sk-estimator.fitted:hover .sk-estimator-doc-link.fitted:hover,\n",
              ".sk-estimator-doc-link.fitted:hover,\n",
              "div.sk-label-container:hover .sk-estimator-doc-link.fitted:hover,\n",
              ".sk-estimator-doc-link.fitted:hover {\n",
              "  /* fitted */\n",
              "  background-color: var(--sklearn-color-fitted-level-3);\n",
              "  color: var(--sklearn-color-background);\n",
              "  text-decoration: none;\n",
              "}\n",
              "\n",
              "/* Span, style for the box shown on hovering the info icon */\n",
              ".sk-estimator-doc-link span {\n",
              "  display: none;\n",
              "  z-index: 9999;\n",
              "  position: relative;\n",
              "  font-weight: normal;\n",
              "  right: .2ex;\n",
              "  padding: .5ex;\n",
              "  margin: .5ex;\n",
              "  width: min-content;\n",
              "  min-width: 20ex;\n",
              "  max-width: 50ex;\n",
              "  color: var(--sklearn-color-text);\n",
              "  box-shadow: 2pt 2pt 4pt #999;\n",
              "  /* unfitted */\n",
              "  background: var(--sklearn-color-unfitted-level-0);\n",
              "  border: .5pt solid var(--sklearn-color-unfitted-level-3);\n",
              "}\n",
              "\n",
              ".sk-estimator-doc-link.fitted span {\n",
              "  /* fitted */\n",
              "  background: var(--sklearn-color-fitted-level-0);\n",
              "  border: var(--sklearn-color-fitted-level-3);\n",
              "}\n",
              "\n",
              ".sk-estimator-doc-link:hover span {\n",
              "  display: block;\n",
              "}\n",
              "\n",
              "/* \"?\"-specific style due to the `<a>` HTML tag */\n",
              "\n",
              "#sk-container-id-1 a.estimator_doc_link {\n",
              "  float: right;\n",
              "  font-size: 1rem;\n",
              "  line-height: 1em;\n",
              "  font-family: monospace;\n",
              "  background-color: var(--sklearn-color-background);\n",
              "  border-radius: 1rem;\n",
              "  height: 1rem;\n",
              "  width: 1rem;\n",
              "  text-decoration: none;\n",
              "  /* unfitted */\n",
              "  color: var(--sklearn-color-unfitted-level-1);\n",
              "  border: var(--sklearn-color-unfitted-level-1) 1pt solid;\n",
              "}\n",
              "\n",
              "#sk-container-id-1 a.estimator_doc_link.fitted {\n",
              "  /* fitted */\n",
              "  border: var(--sklearn-color-fitted-level-1) 1pt solid;\n",
              "  color: var(--sklearn-color-fitted-level-1);\n",
              "}\n",
              "\n",
              "/* On hover */\n",
              "#sk-container-id-1 a.estimator_doc_link:hover {\n",
              "  /* unfitted */\n",
              "  background-color: var(--sklearn-color-unfitted-level-3);\n",
              "  color: var(--sklearn-color-background);\n",
              "  text-decoration: none;\n",
              "}\n",
              "\n",
              "#sk-container-id-1 a.estimator_doc_link.fitted:hover {\n",
              "  /* fitted */\n",
              "  background-color: var(--sklearn-color-fitted-level-3);\n",
              "}\n",
              "</style><div id=\"sk-container-id-1\" class=\"sk-top-container\"><div class=\"sk-text-repr-fallback\"><pre>OneVsRestClassifier(estimator=LogisticRegression(max_iter=1000))</pre><b>In a Jupyter environment, please rerun this cell to show the HTML representation or trust the notebook. <br />On GitHub, the HTML representation is unable to render, please try loading this page with nbviewer.org.</b></div><div class=\"sk-container\" hidden><div class=\"sk-item sk-dashed-wrapped\"><div class=\"sk-label-container\"><div class=\"sk-label fitted sk-toggleable\"><input class=\"sk-toggleable__control sk-hidden--visually\" id=\"sk-estimator-id-1\" type=\"checkbox\" ><label for=\"sk-estimator-id-1\" class=\"sk-toggleable__label fitted sk-toggleable__label-arrow fitted\">&nbsp;&nbsp;OneVsRestClassifier<a class=\"sk-estimator-doc-link fitted\" rel=\"noreferrer\" target=\"_blank\" href=\"https://scikit-learn.org/1.5/modules/generated/sklearn.multiclass.OneVsRestClassifier.html\">?<span>Documentation for OneVsRestClassifier</span></a><span class=\"sk-estimator-doc-link fitted\">i<span>Fitted</span></span></label><div class=\"sk-toggleable__content fitted\"><pre>OneVsRestClassifier(estimator=LogisticRegression(max_iter=1000))</pre></div> </div></div><div class=\"sk-parallel\"><div class=\"sk-parallel-item\"><div class=\"sk-item\"><div class=\"sk-label-container\"><div class=\"sk-label fitted sk-toggleable\"><input class=\"sk-toggleable__control sk-hidden--visually\" id=\"sk-estimator-id-2\" type=\"checkbox\" ><label for=\"sk-estimator-id-2\" class=\"sk-toggleable__label fitted sk-toggleable__label-arrow fitted\">estimator: LogisticRegression</label><div class=\"sk-toggleable__content fitted\"><pre>LogisticRegression(max_iter=1000)</pre></div> </div></div><div class=\"sk-serial\"><div class=\"sk-item\"><div class=\"sk-estimator fitted sk-toggleable\"><input class=\"sk-toggleable__control sk-hidden--visually\" id=\"sk-estimator-id-3\" type=\"checkbox\" ><label for=\"sk-estimator-id-3\" class=\"sk-toggleable__label fitted sk-toggleable__label-arrow fitted\">&nbsp;LogisticRegression<a class=\"sk-estimator-doc-link fitted\" rel=\"noreferrer\" target=\"_blank\" href=\"https://scikit-learn.org/1.5/modules/generated/sklearn.linear_model.LogisticRegression.html\">?<span>Documentation for LogisticRegression</span></a></label><div class=\"sk-toggleable__content fitted\"><pre>LogisticRegression(max_iter=1000)</pre></div> </div></div></div></div></div></div></div></div></div>"
            ],
            "text/plain": [
              "OneVsRestClassifier(estimator=LogisticRegression(max_iter=1000))"
            ]
          },
          "execution_count": 28,
          "metadata": {},
          "output_type": "execute_result"
        }
      ],
      "source": [
        "# Обучим модель\n",
        "clf.fit(X_train, Y_train)"
      ]
    },
    {
      "cell_type": "markdown",
      "id": "0f13384f-abcf-4a17-8919-9e071164c3b7",
      "metadata": {
        "id": "0f13384f-abcf-4a17-8919-9e071164c3b7"
      },
      "source": [
        "## 8. Оценка классической модели"
      ]
    },
    {
      "cell_type": "code",
      "execution_count": null,
      "id": "149247eb-e90b-4c31-a0a3-8dfc36d2d3b8",
      "metadata": {
        "id": "149247eb-e90b-4c31-a0a3-8dfc36d2d3b8"
      },
      "outputs": [],
      "source": [
        "# Получим предсказания модели на тесте\n",
        "Y_pred = clf.predict(X_test)"
      ]
    },
    {
      "cell_type": "code",
      "execution_count": null,
      "id": "6cf2b9ce-0118-428f-8736-c948b08181dd",
      "metadata": {
        "id": "6cf2b9ce-0118-428f-8736-c948b08181dd",
        "outputId": "dce73259-6958-454c-f2ea-aad167cc7c91"
      },
      "outputs": [
        {
          "name": "stdout",
          "output_type": "stream",
          "text": [
            "                                            precision    recall  f1-score   support\n",
            "\n",
            "                          Computer Science       0.96      1.00      0.98      7843\n",
            "                                 Economics       0.00      0.00      0.00         4\n",
            "Electrical Engineering and Systems Science       0.00      0.00      0.00        50\n",
            "                               Mathematics       0.66      0.12      0.21       430\n",
            "                                   Physics       0.82      0.06      0.11       242\n",
            "                      Quantitative Biology       0.77      0.09      0.17       182\n",
            "                      Quantitative Finance       0.00      0.00      0.00        13\n",
            "                                Statistics       0.75      0.61      0.67      2134\n",
            "\n",
            "                                 micro avg       0.92      0.84      0.88     10898\n",
            "                                 macro avg       0.50      0.24      0.27     10898\n",
            "                              weighted avg       0.89      0.84      0.85     10898\n",
            "                               samples avg       0.95      0.90      0.90     10898\n",
            "\n"
          ]
        }
      ],
      "source": [
        "# Выведем отчёт\n",
        "print(classification_report(Y_test, Y_pred, target_names=mlb.classes_, zero_division=0))"
      ]
    },
    {
      "cell_type": "markdown",
      "id": "634a844d-96ec-4e8b-bf87-629d09443b55",
      "metadata": {
        "id": "634a844d-96ec-4e8b-bf87-629d09443b55"
      },
      "source": [
        "Разберём показатели по каждому классу.\n",
        "\n",
        "##### Computer Science\n",
        "\n",
        "- Precision: **0.96**\n",
        "- Recall: **1.00**\n",
        "- F1: **0.98**\n",
        "\n",
        "Самый большой класс. Модель почти не ошибается и находит всё.\n",
        "\n",
        "##### Economics, Electrical Engineering and Systems Science, Quantitative Finance\n",
        "\n",
        "- Precision: **0**\n",
        "- Recall: **0**\n",
        "- F1: **0**\n",
        "\n",
        "Это значит, что модель вообще ни одного раза не предсказала эти метки из-за очень низкой представленности образцов данных классов. Логистическая регрессия не научилась для них.\n",
        "\n",
        "##### Physics, Mathematics, Quantitative Biology\n",
        "\n",
        "- Recall очень низкий (6–12%), значит модель почти не находит их.\n",
        "- Хотя Precision неплохой — модель редко, но точно угадывает.\n",
        "\n",
        "##### Statistics\n",
        "\n",
        "- Precision: **0.75**\n",
        "- Recall: **0.61**\n",
        "- F1: **0.67**\n",
        "\n",
        "Единственный малый класс, где всё ещё приемлемый recall и F1."
      ]
    },
    {
      "cell_type": "markdown",
      "id": "8feb2732-0752-42ec-827b-eefda63d91bf",
      "metadata": {
        "id": "8feb2732-0752-42ec-827b-eefda63d91bf"
      },
      "source": [
        "Очевидно, что датасет сильно несбалансированный, а потому модель показывает плохие результаты. Для наглядности можно построить график представленности тем в датасете."
      ]
    },
    {
      "cell_type": "code",
      "execution_count": null,
      "id": "9ef98b92-0d7c-4123-8b5f-c0cbb1fb0e49",
      "metadata": {
        "id": "9ef98b92-0d7c-4123-8b5f-c0cbb1fb0e49"
      },
      "outputs": [],
      "source": [
        "# Подготовим данные для графика\n",
        "topic_counts = df[\"topics\"].explode().value_counts().sort_values(ascending=False).reset_index()\n",
        "topic_counts.columns = [\"topic\", \"count\"]"
      ]
    },
    {
      "cell_type": "code",
      "execution_count": null,
      "id": "e47949d0-91aa-48c0-a76c-b90485f4a8ce",
      "metadata": {
        "id": "e47949d0-91aa-48c0-a76c-b90485f4a8ce",
        "outputId": "265171cc-9d10-42b2-9f9f-40d83c2dff70"
      },
      "outputs": [
        {
          "data": {
            "image/png": "[encoded data removed]",
            "text/plain": [
              "<Figure size 700x700 with 1 Axes>"
            ]
          },
          "metadata": {},
          "output_type": "display_data"
        }
      ],
      "source": [
        "# Построим график распределения статей по темам\n",
        "plt.figure(figsize=(7, 7))\n",
        "sns.barplot(\n",
        "    data=topic_counts,\n",
        "    x=\"topic\",\n",
        "    y=\"count\",\n",
        "    hue=\"topic\",\n",
        "    dodge=False,\n",
        "    palette=\"viridis\",\n",
        "    legend=False\n",
        ")\n",
        "\n",
        "plt.xticks(rotation=45, ha=\"right\")\n",
        "plt.xlabel(\"Темы\")\n",
        "plt.ylabel(\"Количество статей\")\n",
        "plt.title(\"Распределение статей по темам arXiv\")\n",
        "plt.grid(axis=\"y\", linestyle=\"--\", alpha=0.7)\n",
        "plt.tight_layout()\n",
        "plt.show()"
      ]
    },
    {
      "cell_type": "code",
      "execution_count": null,
      "id": "a647aed4-9a28-4565-bfb9-f17ca23c27b2",
      "metadata": {
        "id": "a647aed4-9a28-4565-bfb9-f17ca23c27b2",
        "outputId": "584c27d9-107f-47ef-de60-2de607addf41"
      },
      "outputs": [
        {
          "data": {
            "text/html": [
              "<div>\n",
              "<style scoped>\n",
              "    .dataframe tbody tr th:only-of-type {\n",
              "        vertical-align: middle;\n",
              "    }\n",
              "\n",
              "    .dataframe tbody tr th {\n",
              "        vertical-align: top;\n",
              "    }\n",
              "\n",
              "    .dataframe thead th {\n",
              "        text-align: right;\n",
              "    }\n",
              "</style>\n",
              "<table border=\"1\" class=\"dataframe\">\n",
              "  <thead>\n",
              "    <tr style=\"text-align: right;\">\n",
              "      <th></th>\n",
              "      <th>topic</th>\n",
              "      <th>count</th>\n",
              "    </tr>\n",
              "  </thead>\n",
              "  <tbody>\n",
              "    <tr>\n",
              "      <th>0</th>\n",
              "      <td>Computer Science</td>\n",
              "      <td>39251</td>\n",
              "    </tr>\n",
              "    <tr>\n",
              "      <th>1</th>\n",
              "      <td>Statistics</td>\n",
              "      <td>10618</td>\n",
              "    </tr>\n",
              "    <tr>\n",
              "      <th>2</th>\n",
              "      <td>Mathematics</td>\n",
              "      <td>2263</td>\n",
              "    </tr>\n",
              "    <tr>\n",
              "      <th>3</th>\n",
              "      <td>Physics</td>\n",
              "      <td>1208</td>\n",
              "    </tr>\n",
              "    <tr>\n",
              "      <th>4</th>\n",
              "      <td>Quantitative Biology</td>\n",
              "      <td>896</td>\n",
              "    </tr>\n",
              "    <tr>\n",
              "      <th>5</th>\n",
              "      <td>Electrical Engineering and Systems Science</td>\n",
              "      <td>220</td>\n",
              "    </tr>\n",
              "    <tr>\n",
              "      <th>6</th>\n",
              "      <td>Quantitative Finance</td>\n",
              "      <td>66</td>\n",
              "    </tr>\n",
              "    <tr>\n",
              "      <th>7</th>\n",
              "      <td>Economics</td>\n",
              "      <td>13</td>\n",
              "    </tr>\n",
              "  </tbody>\n",
              "</table>\n",
              "</div>"
            ],
            "text/plain": [
              "                                        topic  count\n",
              "0                            Computer Science  39251\n",
              "1                                  Statistics  10618\n",
              "2                                 Mathematics   2263\n",
              "3                                     Physics   1208\n",
              "4                        Quantitative Biology    896\n",
              "5  Electrical Engineering and Systems Science    220\n",
              "6                        Quantitative Finance     66\n",
              "7                                   Economics     13"
            ]
          },
          "execution_count": 33,
          "metadata": {},
          "output_type": "execute_result"
        }
      ],
      "source": [
        "# Ну, или в цифрах\n",
        "topic_counts"
      ]
    },
    {
      "cell_type": "markdown",
      "id": "fa96c46e-a535-4e45-97fc-ee41e757b340",
      "metadata": {
        "id": "fa96c46e-a535-4e45-97fc-ee41e757b340"
      },
      "source": [
        "Даже для классических моделей машинного обучения, из-за такой маленькой представленности некоторых классов, данных просто мало. Уже понятно, что нужно искать данные дополнительно. Но для начала всё же попробуем обучить `distilbert` на имеющихся, чтобы увидеть разницу, по сравнению с логистической регрессией."
      ]
    },
    {
      "cell_type": "markdown",
      "id": "46787685-45ae-4fd8-abb7-05e99a9209cb",
      "metadata": {
        "id": "46787685-45ae-4fd8-abb7-05e99a9209cb"
      },
      "source": [
        "## 9. Обучение трансформера"
      ]
    },
    {
      "cell_type": "code",
      "execution_count": null,
      "id": "afef6849-8f3a-4cfb-ab13-585ff1dd14e1",
      "metadata": {
        "id": "afef6849-8f3a-4cfb-ab13-585ff1dd14e1",
        "outputId": "0c599107-3dd2-48f5-c22a-7ebe69e85620"
      },
      "outputs": [
        {
          "data": {
            "text/plain": [
              "array(['Computer Science', 'Economics',\n",
              "       'Electrical Engineering and Systems Science', 'Mathematics',\n",
              "       'Physics', 'Quantitative Biology', 'Quantitative Finance',\n",
              "       'Statistics'], dtype=object)"
            ]
          },
          "execution_count": 34,
          "metadata": {},
          "output_type": "execute_result"
        }
      ],
      "source": [
        "mlb.classes_"
      ]
    },
    {
      "cell_type": "code",
      "execution_count": null,
      "id": "f235ebf0-41ea-4171-88ae-8c7be96243e8",
      "metadata": {
        "id": "f235ebf0-41ea-4171-88ae-8c7be96243e8"
      },
      "outputs": [],
      "source": [
        "# Подготовим общий датасет с темами\n",
        "labels_df = pd.DataFrame(Y, columns=mlb.classes_)\n",
        "df_encoded = pd.concat([df[[\"text\"]], labels_df], axis=1)"
      ]
    },
    {
      "cell_type": "code",
      "execution_count": null,
      "id": "3b6a480e-8f9e-4c82-87db-cdd817c4c995",
      "metadata": {
        "id": "3b6a480e-8f9e-4c82-87db-cdd817c4c995",
        "outputId": "8b7cae86-74fa-437d-ee6c-cc83bd025da9"
      },
      "outputs": [
        {
          "data": {
            "text/html": [
              "<div>\n",
              "<style scoped>\n",
              "    .dataframe tbody tr th:only-of-type {\n",
              "        vertical-align: middle;\n",
              "    }\n",
              "\n",
              "    .dataframe tbody tr th {\n",
              "        vertical-align: top;\n",
              "    }\n",
              "\n",
              "    .dataframe thead th {\n",
              "        text-align: right;\n",
              "    }\n",
              "</style>\n",
              "<table border=\"1\" class=\"dataframe\">\n",
              "  <thead>\n",
              "    <tr style=\"text-align: right;\">\n",
              "      <th></th>\n",
              "      <th>text</th>\n",
              "      <th>Computer Science</th>\n",
              "      <th>Economics</th>\n",
              "      <th>Electrical Engineering and Systems Science</th>\n",
              "      <th>Mathematics</th>\n",
              "      <th>Physics</th>\n",
              "      <th>Quantitative Biology</th>\n",
              "      <th>Quantitative Finance</th>\n",
              "      <th>Statistics</th>\n",
              "    </tr>\n",
              "  </thead>\n",
              "  <tbody>\n",
              "    <tr>\n",
              "      <th>0</th>\n",
              "      <td>Dual Recurrent Attention Units for Visual Ques...</td>\n",
              "      <td>1</td>\n",
              "      <td>0</td>\n",
              "      <td>0</td>\n",
              "      <td>0</td>\n",
              "      <td>0</td>\n",
              "      <td>0</td>\n",
              "      <td>0</td>\n",
              "      <td>1</td>\n",
              "    </tr>\n",
              "    <tr>\n",
              "      <th>1</th>\n",
              "      <td>Sequential Short-Text Classification with Recu...</td>\n",
              "      <td>1</td>\n",
              "      <td>0</td>\n",
              "      <td>0</td>\n",
              "      <td>0</td>\n",
              "      <td>0</td>\n",
              "      <td>0</td>\n",
              "      <td>0</td>\n",
              "      <td>1</td>\n",
              "    </tr>\n",
              "    <tr>\n",
              "      <th>2</th>\n",
              "      <td>Multiresolution Recurrent Neural Networks: An ...</td>\n",
              "      <td>1</td>\n",
              "      <td>0</td>\n",
              "      <td>0</td>\n",
              "      <td>0</td>\n",
              "      <td>0</td>\n",
              "      <td>0</td>\n",
              "      <td>0</td>\n",
              "      <td>1</td>\n",
              "    </tr>\n",
              "    <tr>\n",
              "      <th>3</th>\n",
              "      <td>Learning what to share between loosely related...</td>\n",
              "      <td>1</td>\n",
              "      <td>0</td>\n",
              "      <td>0</td>\n",
              "      <td>0</td>\n",
              "      <td>0</td>\n",
              "      <td>0</td>\n",
              "      <td>0</td>\n",
              "      <td>1</td>\n",
              "    </tr>\n",
              "    <tr>\n",
              "      <th>4</th>\n",
              "      <td>A Deep Reinforcement Learning Chatbot We prese...</td>\n",
              "      <td>1</td>\n",
              "      <td>0</td>\n",
              "      <td>0</td>\n",
              "      <td>0</td>\n",
              "      <td>0</td>\n",
              "      <td>0</td>\n",
              "      <td>0</td>\n",
              "      <td>1</td>\n",
              "    </tr>\n",
              "  </tbody>\n",
              "</table>\n",
              "</div>"
            ],
            "text/plain": [
              "                                                text  Computer Science  \\\n",
              "0  Dual Recurrent Attention Units for Visual Ques...                 1   \n",
              "1  Sequential Short-Text Classification with Recu...                 1   \n",
              "2  Multiresolution Recurrent Neural Networks: An ...                 1   \n",
              "3  Learning what to share between loosely related...                 1   \n",
              "4  A Deep Reinforcement Learning Chatbot We prese...                 1   \n",
              "\n",
              "   Economics  Electrical Engineering and Systems Science  Mathematics  \\\n",
              "0          0                                           0            0   \n",
              "1          0                                           0            0   \n",
              "2          0                                           0            0   \n",
              "3          0                                           0            0   \n",
              "4          0                                           0            0   \n",
              "\n",
              "   Physics  Quantitative Biology  Quantitative Finance  Statistics  \n",
              "0        0                     0                     0           1  \n",
              "1        0                     0                     0           1  \n",
              "2        0                     0                     0           1  \n",
              "3        0                     0                     0           1  \n",
              "4        0                     0                     0           1  "
            ]
          },
          "execution_count": 36,
          "metadata": {},
          "output_type": "execute_result"
        }
      ],
      "source": [
        "df_encoded.head()"
      ]
    },
    {
      "cell_type": "code",
      "execution_count": null,
      "id": "31275072-6bda-4729-accd-2efeac47e7df",
      "metadata": {
        "id": "31275072-6bda-4729-accd-2efeac47e7df"
      },
      "outputs": [],
      "source": [
        "# Разделим датасет на трейн и тест\n",
        "train_df, val_df = train_test_split(df_encoded, test_size=0.1, random_state=42)"
      ]
    },
    {
      "cell_type": "code",
      "execution_count": null,
      "id": "7b044abd-bf02-4a01-b054-18761d8b3e34",
      "metadata": {
        "id": "7b044abd-bf02-4a01-b054-18761d8b3e34"
      },
      "outputs": [],
      "source": [
        "# Инициализируем токенайзер\n",
        "model_name = \"distilbert-base-cased\"\n",
        "tokenizer = AutoTokenizer.from_pretrained(model_name)"
      ]
    },
    {
      "cell_type": "code",
      "execution_count": null,
      "id": "d665d4cf-379a-4963-9432-ed2b92b315c2",
      "metadata": {
        "id": "d665d4cf-379a-4963-9432-ed2b92b315c2"
      },
      "outputs": [],
      "source": [
        "# Преобразуем трейн и тест в экземпляры `Dataset`\n",
        "train_dataset = Dataset.from_pandas(train_df)\n",
        "val_dataset = Dataset.from_pandas(val_df)"
      ]
    },
    {
      "cell_type": "code",
      "execution_count": null,
      "id": "e7ef461f-cdc8-42ed-b630-98791428dd0f",
      "metadata": {
        "id": "e7ef461f-cdc8-42ed-b630-98791428dd0f"
      },
      "outputs": [],
      "source": [
        "# Подготовим функцию для токенизации датасета\n",
        "def tokenize_and_format(example):\n",
        "    tokens = tokenizer(\n",
        "        example[\"text\"],\n",
        "        padding=\"max_length\",\n",
        "        truncation=True,\n",
        "        max_length=512,\n",
        "    )\n",
        "    tokens[\"labels\"] = [float(example[topic]) for topic in mlb.classes_]\n",
        "    return tokens"
      ]
    },
    {
      "cell_type": "code",
      "execution_count": null,
      "id": "6c344457-e04b-4d26-8a6c-d08bf716e456",
      "metadata": {
        "colab": {
          "referenced_widgets": [
            "6a66d62c12344fa5bc29d4d462ce5c01",
            "ca69f6932fa34ba990ea3e40706ff516"
          ]
        },
        "id": "6c344457-e04b-4d26-8a6c-d08bf716e456",
        "outputId": "d98408d2-cd3a-47f0-f91e-90782f29a01a"
      },
      "outputs": [
        {
          "data": {
            "application/vnd.jupyter.widget-view+json": {
              "model_id": "6a66d62c12344fa5bc29d4d462ce5c01",
              "version_major": 2,
              "version_minor": 0
            },
            "text/plain": [
              "Map:   0%|          | 0/36900 [00:00<?, ? examples/s]"
            ]
          },
          "metadata": {},
          "output_type": "display_data"
        },
        {
          "data": {
            "application/vnd.jupyter.widget-view+json": {
              "model_id": "ca69f6932fa34ba990ea3e40706ff516",
              "version_major": 2,
              "version_minor": 0
            },
            "text/plain": [
              "Map:   0%|          | 0/4100 [00:00<?, ? examples/s]"
            ]
          },
          "metadata": {},
          "output_type": "display_data"
        }
      ],
      "source": [
        "# Токенизируем датасет\n",
        "train_dataset = train_dataset.map(tokenize_and_format)\n",
        "val_dataset = val_dataset.map(tokenize_and_format)"
      ]
    },
    {
      "cell_type": "code",
      "execution_count": null,
      "id": "181523ea-348d-46e7-a0a8-269e53b2094c",
      "metadata": {
        "id": "181523ea-348d-46e7-a0a8-269e53b2094c",
        "outputId": "30ab7f05-16a8-4766-958f-9c648552fe3f"
      },
      "outputs": [
        {
          "data": {
            "text/plain": [
              "Dataset({\n",
              "    features: ['text', 'Computer Science', 'Economics', 'Electrical Engineering and Systems Science', 'Mathematics', 'Physics', 'Quantitative Biology', 'Quantitative Finance', 'Statistics', '__index_level_0__', 'input_ids', 'attention_mask', 'labels'],\n",
              "    num_rows: 36900\n",
              "})"
            ]
          },
          "execution_count": 42,
          "metadata": {},
          "output_type": "execute_result"
        }
      ],
      "source": [
        "train_dataset"
      ]
    },
    {
      "cell_type": "code",
      "execution_count": null,
      "id": "634bc626-f1a6-4153-a26f-fb35fb2a04fe",
      "metadata": {
        "id": "634bc626-f1a6-4153-a26f-fb35fb2a04fe"
      },
      "outputs": [],
      "source": [
        "# Удалим ненужные колонки из датасета\n",
        "train_dataset = train_dataset.remove_columns(train_df.columns.difference([\"text\"] + mlb.classes_).tolist())\n",
        "val_dataset = val_dataset.remove_columns(val_df.columns.difference([\"text\"] + mlb.classes_).tolist())"
      ]
    },
    {
      "cell_type": "code",
      "execution_count": null,
      "id": "727e33c6-5ed1-491e-8a96-c2da3806faa5",
      "metadata": {
        "id": "727e33c6-5ed1-491e-8a96-c2da3806faa5",
        "outputId": "c10e6d5f-55e9-499c-dcbb-060077d3f510"
      },
      "outputs": [
        {
          "data": {
            "text/plain": [
              "Dataset({\n",
              "    features: ['__index_level_0__', 'input_ids', 'attention_mask', 'labels'],\n",
              "    num_rows: 36900\n",
              "})"
            ]
          },
          "execution_count": 44,
          "metadata": {},
          "output_type": "execute_result"
        }
      ],
      "source": [
        "train_dataset"
      ]
    },
    {
      "cell_type": "code",
      "execution_count": null,
      "id": "f798038b-1726-41e9-beb9-725bcfa00b65",
      "metadata": {
        "id": "f798038b-1726-41e9-beb9-725bcfa00b65",
        "outputId": "d1e79021-af2a-4b02-b1fd-20f2822ee66f"
      },
      "outputs": [
        {
          "name": "stderr",
          "output_type": "stream",
          "text": [
            "Some weights of DistilBertForSequenceClassification were not initialized from the model checkpoint at distilbert-base-cased and are newly initialized: ['classifier.bias', 'classifier.weight', 'pre_classifier.bias', 'pre_classifier.weight']\n",
            "You should probably TRAIN this model on a down-stream task to be able to use it for predictions and inference.\n"
          ]
        }
      ],
      "source": [
        "# Инициализируем модель\n",
        "model = AutoModelForSequenceClassification.from_pretrained(\n",
        "    model_name,\n",
        "    num_labels=len(mlb.classes_),\n",
        "    problem_type=\"multi_label_classification\"\n",
        ")"
      ]
    },
    {
      "cell_type": "code",
      "execution_count": null,
      "id": "3c783409-7553-49df-8c97-5e9fed533833",
      "metadata": {
        "id": "3c783409-7553-49df-8c97-5e9fed533833"
      },
      "outputs": [],
      "source": [
        "# Подготовим функцию для вычисления метрик\n",
        "def compute_metrics(pred):\n",
        "    logits, labels = pred\n",
        "    preds = (torch.sigmoid(torch.tensor(logits)) > 0.5).int().numpy()\n",
        "    labels = labels.astype(int)\n",
        "    return {\n",
        "        \"f1_micro\": f1_score(labels, preds, average=\"micro\"),\n",
        "        \"f1_macro\": f1_score(labels, preds, average=\"macro\"),\n",
        "    }"
      ]
    },
    {
      "cell_type": "code",
      "execution_count": null,
      "id": "ae3dbf03-010b-4269-aa56-17a33dd2d2a6",
      "metadata": {
        "id": "ae3dbf03-010b-4269-aa56-17a33dd2d2a6"
      },
      "outputs": [],
      "source": [
        "# Настроим параметры обучения модели\n",
        "training_args = TrainingArguments(\n",
        "    output_dir=\"./results\",\n",
        "    eval_strategy=\"epoch\",\n",
        "    save_strategy=\"epoch\",\n",
        "    per_device_train_batch_size=8,\n",
        "    per_device_eval_batch_size=8,\n",
        "    num_train_epochs=3,\n",
        "    learning_rate=2e-5,\n",
        "    weight_decay=0.01,\n",
        "    logging_dir=\"./logs\",\n",
        "    load_best_model_at_end=True,\n",
        "    metric_for_best_model=\"f1_micro\",\n",
        ")"
      ]
    },
    {
      "cell_type": "code",
      "execution_count": null,
      "id": "24ed0fed-9c20-4e0f-acb2-5a81d2b3131f",
      "metadata": {
        "id": "24ed0fed-9c20-4e0f-acb2-5a81d2b3131f"
      },
      "outputs": [],
      "source": [
        "# Инициализируем трейнер\n",
        "trainer = Trainer(\n",
        "    model=model,\n",
        "    args=training_args,\n",
        "    train_dataset=train_dataset,\n",
        "    eval_dataset=val_dataset,\n",
        "    tokenizer=tokenizer,\n",
        "    compute_metrics=compute_metrics,\n",
        ")"
      ]
    },
    {
      "cell_type": "code",
      "execution_count": null,
      "id": "fcfd52ff-bf21-465e-856c-d0418550ccaa",
      "metadata": {
        "id": "fcfd52ff-bf21-465e-856c-d0418550ccaa",
        "outputId": "27768cc6-377d-45a6-b592-91975e2d3735"
      },
      "outputs": [
        {
          "data": {
            "text/html": [
              "\n",
              "    <div>\n",
              "      \n",
              "      <progress value='13839' max='13839' style='width:300px; height:20px; vertical-align: middle;'></progress>\n",
              "      [13839/13839 24:57, Epoch 3/3]\n",
              "    </div>\n",
              "    <table border=\"1\" class=\"dataframe\">\n",
              "  <thead>\n",
              " <tr style=\"text-align: left;\">\n",
              "      <th>Epoch</th>\n",
              "      <th>Training Loss</th>\n",
              "      <th>Validation Loss</th>\n",
              "      <th>F1 Micro</th>\n",
              "      <th>F1 Macro</th>\n",
              "    </tr>\n",
              "  </thead>\n",
              "  <tbody>\n",
              "    <tr>\n",
              "      <td>1</td>\n",
              "      <td>0.098500</td>\n",
              "      <td>0.096623</td>\n",
              "      <td>0.885409</td>\n",
              "      <td>0.320991</td>\n",
              "    </tr>\n",
              "    <tr>\n",
              "      <td>2</td>\n",
              "      <td>0.090300</td>\n",
              "      <td>0.094051</td>\n",
              "      <td>0.893750</td>\n",
              "      <td>0.427343</td>\n",
              "    </tr>\n",
              "    <tr>\n",
              "      <td>3</td>\n",
              "      <td>0.075600</td>\n",
              "      <td>0.096763</td>\n",
              "      <td>0.889097</td>\n",
              "      <td>0.435684</td>\n",
              "    </tr>\n",
              "  </tbody>\n",
              "</table><p>"
            ],
            "text/plain": [
              "<IPython.core.display.HTML object>"
            ]
          },
          "metadata": {},
          "output_type": "display_data"
        },
        {
          "data": {
            "text/plain": [
              "TrainOutput(global_step=13839, training_loss=0.09283345882168514, metrics={'train_runtime': 1498.5863, 'train_samples_per_second': 73.87, 'train_steps_per_second': 9.235, 'total_flos': 1.46657101160448e+16, 'train_loss': 0.09283345882168514, 'epoch': 3.0})"
            ]
          },
          "execution_count": 49,
          "metadata": {},
          "output_type": "execute_result"
        }
      ],
      "source": [
        "# Обучим модель\n",
        "trainer.train()"
      ]
    },
    {
      "cell_type": "markdown",
      "id": "6c4f6eb6-b333-459c-b9e8-c8b3ce6ec713",
      "metadata": {
        "id": "6c4f6eb6-b333-459c-b9e8-c8b3ce6ec713"
      },
      "source": [
        "## 10. Оценка модели на базе трансформеров"
      ]
    },
    {
      "cell_type": "code",
      "execution_count": null,
      "id": "7b26c41f-8610-45da-ac86-98601a01fc5c",
      "metadata": {
        "id": "7b26c41f-8610-45da-ac86-98601a01fc5c",
        "outputId": "3e7142e7-af99-4dd0-cbe2-db6e1ffea6eb"
      },
      "outputs": [
        {
          "data": {
            "text/html": [],
            "text/plain": [
              "<IPython.core.display.HTML object>"
            ]
          },
          "metadata": {},
          "output_type": "display_data"
        }
      ],
      "source": [
        "# Посчитаем метрики\n",
        "predictions = trainer.predict(val_dataset)\n",
        "preds = (torch.sigmoid(torch.tensor(predictions.predictions)) > 0.5).int().numpy()\n",
        "true = predictions.label_ids.astype(int)"
      ]
    },
    {
      "cell_type": "code",
      "execution_count": null,
      "id": "2bda2d04-dd74-4c8f-b24b-bf18933b54e2",
      "metadata": {
        "id": "2bda2d04-dd74-4c8f-b24b-bf18933b54e2",
        "outputId": "8bb57eb4-2b6b-470f-cf8e-31425b8683b2"
      },
      "outputs": [
        {
          "name": "stdout",
          "output_type": "stream",
          "text": [
            "                                            precision    recall  f1-score   support\n",
            "\n",
            "                          Computer Science       0.96      1.00      0.98      3930\n",
            "                                 Economics       0.00      0.00      0.00         2\n",
            "Electrical Engineering and Systems Science       0.00      0.00      0.00        26\n",
            "                               Mathematics       0.57      0.27      0.37       208\n",
            "                                   Physics       0.60      0.58      0.59       118\n",
            "                      Quantitative Biology       0.69      0.45      0.54        94\n",
            "                      Quantitative Finance       0.33      0.17      0.22         6\n",
            "                                Statistics       0.70      0.75      0.72      1039\n",
            "\n",
            "                                 micro avg       0.89      0.90      0.89      5423\n",
            "                                 macro avg       0.48      0.40      0.43      5423\n",
            "                              weighted avg       0.88      0.90      0.88      5423\n",
            "                               samples avg       0.93      0.94      0.91      5423\n",
            "\n"
          ]
        }
      ],
      "source": [
        "# Выведем отчёт\n",
        "print(classification_report(true, preds, target_names=mlb.classes_, zero_division=0))"
      ]
    },
    {
      "cell_type": "markdown",
      "id": "6badb3ac-b879-41ab-8adb-e2b771ada20f",
      "metadata": {
        "id": "6badb3ac-b879-41ab-8adb-e2b771ada20f"
      },
      "source": [
        "У модели `distilbert` показатели получше, но тоже полный провал по классам малой представленноси. Будем собирать дополнительные данные."
      ]
    },
    {
      "cell_type": "markdown",
      "id": "def9c050-989b-459b-a8f3-adbe8b64e79c",
      "metadata": {
        "id": "def9c050-989b-459b-a8f3-adbe8b64e79c"
      },
      "source": [
        "## 11. Сбор дополнительных данных\n",
        "\n",
        "Так как в изначальном датасете представлена метаинформация о статьях только до 2018-го года, имеет смысл спарсить года с 2019-го по 2025-й. Для воспользуемся библиотекой [arxiv](https://github.com/lukasschwab/arxiv.py).\n",
        "\n",
        "Код парсера вынесен отдельно, чтобы не запускать его каждый раз при запуске ноутбука. Получилось 7 файлов в формате **.jsonl** со структурой, похожей на изначальный файл. Время парсинга составило около 17 часов."
      ]
    },
    {
      "cell_type": "markdown",
      "id": "378cb33c-158d-4d12-8b90-ae5fd1b03325",
      "metadata": {
        "id": "378cb33c-158d-4d12-8b90-ae5fd1b03325"
      },
      "source": [
        "## 12. Подготовка нового датасета\n",
        "\n",
        "Теперь, когда данные собраны, необходимо обогатить изначальный датасет."
      ]
    },
    {
      "cell_type": "code",
      "execution_count": null,
      "id": "935eb18b-2d83-408c-8467-325bdaa5b93a",
      "metadata": {
        "id": "935eb18b-2d83-408c-8467-325bdaa5b93a"
      },
      "outputs": [],
      "source": [
        "import glob\n",
        "\n",
        "file_pattern = os.path.join(os.getcwd(), 'raw_data/*.json*')\n",
        "json_files = glob.glob(file_pattern)"
      ]
    },
    {
      "cell_type": "code",
      "execution_count": null,
      "id": "965ae8e8-c251-43fb-a522-579e6b1dcb46",
      "metadata": {
        "id": "965ae8e8-c251-43fb-a522-579e6b1dcb46"
      },
      "outputs": [],
      "source": [
        "# Обновлённая функция, которая из каждой записи о статье сформирует словарь с ключами `year`, `title`, `summary`, `tags`\n",
        "def parse_article_data_json(entry):\n",
        "    try:\n",
        "        tags_raw = entry[\"tag\"]\n",
        "        tags = [tag_dict[\"term\"] for tag_dict in tags_raw]\n",
        "    except (ValueError, SyntaxError, KeyError, TypeError):\n",
        "        try:\n",
        "            tags_raw = literal_eval(entry[\"tag\"])\n",
        "            tags = [tag_dict[\"term\"] for tag_dict in tags_raw]\n",
        "        except:\n",
        "            tags = []\n",
        "\n",
        "    return {\n",
        "        \"year\": entry.get(\"year\", None),\n",
        "        \"title\": entry.get(\"title\", \"\").strip(),\n",
        "        \"summary\": entry.get(\"summary\", \"\").replace(\"\\n\", \" \").strip(),\n",
        "        \"tags\": tags\n",
        "    }"
      ]
    },
    {
      "cell_type": "code",
      "execution_count": null,
      "id": "2a4f644a-46cc-48e0-93d5-4d75d5d4a7c4",
      "metadata": {
        "id": "2a4f644a-46cc-48e0-93d5-4d75d5d4a7c4",
        "outputId": "e5f237be-2153-4ca1-dd7e-0725f6ac9d45"
      },
      "outputs": [
        {
          "name": "stdout",
          "output_type": "stream",
          "text": [
            "Ошибка в строке: {\"author\": [{\"name\": \"Samuel Belkadi\"}, {\"name\": \"Libo Ren\"}, {\"name\": \"Nicolo Micheletti\"}, {\"name\": \"Lifeng Han\"}, {\"name\": \"Goran Nenadic\"}], \"day\": 15, \"id\": \"2409.09831v3\", \"link\": [{\"rel\": \"alternate\", \"href\": \"http://arxiv.org/abs/2409.09831v3\", \"type\": \"text/html\"}, {\"rel\": \"related\", \"href\": \"http://arxiv.org/pdf/2409.09831v3\", \"type\": \"application/pdf\", \"title\": \"pdf\"}], \"month\": 9, \"summary\": {\"author\": [{\"name\": \"Xiao-Yong Feng\"}], \"day\": 15, \"id\": \"2409.09562v3\", \"link\": [{\"rel\": \"alternate\", \"href\": \"http://arxiv.org/abs/2409.09562v3\", \"type\": \"text/html\"}, {\"rel\": \"related\", \"href\": \"http://arxiv.org/pdf/2409.09562v3\", \"type\": \"application/pdf\", \"title\": \"pdf\"}], \"month\": 9, \"summary\": \"The Hubbard model, a cornerstone in the field of condensed matter physics,\\nserves as a fundamental framework for investigating the behavior of strongly\\ncorrelated electron systems. This paper presents a novel perspective on the\\nmodel, uncovering its inherent inverted duality which has profound implications\\nfor our comprehension of this complex system. Taking advantage of this special\\nmathematical property, we have formulated an equation that the electron Green's\\nfunction must satisfy. Our findings pave the way for further exploration and\\npotentially new insights into the dynamics of electron correlations and phase\\ntransitions in the Hubbard model.\", \"tag\": [{\"term\": \"cond-mat.str-el\", \"scheme\": \"http://arxiv.org/schemas/atom\", \"label\": null}], \"title\": \"Inverted duality of Hubbard model and an equation for the Green's function\", \"year\": 2024}\n",
            "\n",
            "Ошибка: Expecting ',' delimiter: line 1 column 1574 (char 1573)\n"
          ]
        }
      ],
      "source": [
        "# Подготовим список с данными для нового датафрейма\n",
        "data = []\n",
        "\n",
        "for file_path in json_files:\n",
        "    if file_path.endswith('.json'):\n",
        "        with open(file_path, 'r', encoding='utf-8') as f:\n",
        "            raw_data = json.load(f)\n",
        "            for entry in raw_data:\n",
        "                parsed_data = parse_article_data_json(entry)\n",
        "                data.append(parsed_data)\n",
        "    else:\n",
        "        with open(file_path, 'r', encoding='utf-8') as f:\n",
        "            for line in f:\n",
        "                try:\n",
        "                    entry = json.loads(line.strip())  # Парсим каждую строку\n",
        "                    parsed_data = parse_article_data_json(entry)\n",
        "                    data.append(parsed_data)\n",
        "                except json.JSONDecodeError as e:\n",
        "                    print(f\"Ошибка в строке: {line}\\nОшибка: {e}\")\n",
        "                    continue"
      ]
    },
    {
      "cell_type": "code",
      "execution_count": null,
      "id": "3ac2cc56-137f-4b5b-b167-bf8465922bac",
      "metadata": {
        "id": "3ac2cc56-137f-4b5b-b167-bf8465922bac"
      },
      "outputs": [],
      "source": [
        "# Создадим новый датафрейм\n",
        "df = pd.DataFrame(data)"
      ]
    },
    {
      "cell_type": "code",
      "execution_count": null,
      "id": "ef9929bc-dea8-4273-b12c-8071540efc65",
      "metadata": {
        "id": "ef9929bc-dea8-4273-b12c-8071540efc65",
        "outputId": "77ee5af3-ea0b-49a2-e50d-4be7036902c0"
      },
      "outputs": [
        {
          "data": {
            "text/html": [
              "<div>\n",
              "<style scoped>\n",
              "    .dataframe tbody tr th:only-of-type {\n",
              "        vertical-align: middle;\n",
              "    }\n",
              "\n",
              "    .dataframe tbody tr th {\n",
              "        vertical-align: top;\n",
              "    }\n",
              "\n",
              "    .dataframe thead th {\n",
              "        text-align: right;\n",
              "    }\n",
              "</style>\n",
              "<table border=\"1\" class=\"dataframe\">\n",
              "  <thead>\n",
              "    <tr style=\"text-align: right;\">\n",
              "      <th></th>\n",
              "      <th>year</th>\n",
              "      <th>title</th>\n",
              "      <th>summary</th>\n",
              "      <th>tags</th>\n",
              "    </tr>\n",
              "  </thead>\n",
              "  <tbody>\n",
              "    <tr>\n",
              "      <th>0</th>\n",
              "      <td>2021</td>\n",
              "      <td>Entanglement harvesting in the presence of a r...</td>\n",
              "      <td>We study, in the framework of the entanglement...</td>\n",
              "      <td>[quant-ph, gr-qc]</td>\n",
              "    </tr>\n",
              "    <tr>\n",
              "      <th>1</th>\n",
              "      <td>2021</td>\n",
              "      <td>Energy Performance Analysis of Distributed Ren...</td>\n",
              "      <td>The Pacific Northwest Smart Grid Demonstration...</td>\n",
              "      <td>[eess.SY, cs.SY]</td>\n",
              "    </tr>\n",
              "    <tr>\n",
              "      <th>2</th>\n",
              "      <td>2021</td>\n",
              "      <td>Dynamic system optimal traffic assignment with...</td>\n",
              "      <td>In this study, we analyse the convergence and ...</td>\n",
              "      <td>[math.OC, cs.GT]</td>\n",
              "    </tr>\n",
              "    <tr>\n",
              "      <th>3</th>\n",
              "      <td>2021</td>\n",
              "      <td>Multi-task Retrieval for Knowledge-Intensive T...</td>\n",
              "      <td>Retrieving relevant contexts from a large corp...</td>\n",
              "      <td>[cs.CL]</td>\n",
              "    </tr>\n",
              "    <tr>\n",
              "      <th>4</th>\n",
              "      <td>2021</td>\n",
              "      <td>A Two Stage Adaptive Metropolis Algorithm</td>\n",
              "      <td>We propose a new sampling algorithm combining ...</td>\n",
              "      <td>[stat.CO]</td>\n",
              "    </tr>\n",
              "    <tr>\n",
              "      <th>5</th>\n",
              "      <td>2021</td>\n",
              "      <td>On the heat equation with drift in $L_{d+1}$</td>\n",
              "      <td>In this paper we deal with the heat equation w...</td>\n",
              "      <td>[math.AP, 35B65, 35B45]</td>\n",
              "    </tr>\n",
              "    <tr>\n",
              "      <th>6</th>\n",
              "      <td>2021</td>\n",
              "      <td>Simple close curve magnetization and applicati...</td>\n",
              "      <td>In this paper we introduce and develop the not...</td>\n",
              "      <td>[math.GM]</td>\n",
              "    </tr>\n",
              "    <tr>\n",
              "      <th>7</th>\n",
              "      <td>2021</td>\n",
              "      <td>WARP: Word-level Adversarial ReProgramming</td>\n",
              "      <td>Transfer learning from pretrained language mod...</td>\n",
              "      <td>[cs.CL]</td>\n",
              "    </tr>\n",
              "    <tr>\n",
              "      <th>8</th>\n",
              "      <td>2021</td>\n",
              "      <td>Generative Max-Mahalanobis Classifiers for Ima...</td>\n",
              "      <td>Joint Energy-based Model (JEM) of Grathwohl et...</td>\n",
              "      <td>[cs.CV, cs.LG]</td>\n",
              "    </tr>\n",
              "    <tr>\n",
              "      <th>9</th>\n",
              "      <td>2021</td>\n",
              "      <td>Intent Classification and Slot Filling for Pri...</td>\n",
              "      <td>Understanding privacy policies is crucial for ...</td>\n",
              "      <td>[cs.CL]</td>\n",
              "    </tr>\n",
              "  </tbody>\n",
              "</table>\n",
              "</div>"
            ],
            "text/plain": [
              "   year                                              title  \\\n",
              "0  2021  Entanglement harvesting in the presence of a r...   \n",
              "1  2021  Energy Performance Analysis of Distributed Ren...   \n",
              "2  2021  Dynamic system optimal traffic assignment with...   \n",
              "3  2021  Multi-task Retrieval for Knowledge-Intensive T...   \n",
              "4  2021          A Two Stage Adaptive Metropolis Algorithm   \n",
              "5  2021       On the heat equation with drift in $L_{d+1}$   \n",
              "6  2021  Simple close curve magnetization and applicati...   \n",
              "7  2021         WARP: Word-level Adversarial ReProgramming   \n",
              "8  2021  Generative Max-Mahalanobis Classifiers for Ima...   \n",
              "9  2021  Intent Classification and Slot Filling for Pri...   \n",
              "\n",
              "                                             summary                     tags  \n",
              "0  We study, in the framework of the entanglement...        [quant-ph, gr-qc]  \n",
              "1  The Pacific Northwest Smart Grid Demonstration...         [eess.SY, cs.SY]  \n",
              "2  In this study, we analyse the convergence and ...         [math.OC, cs.GT]  \n",
              "3  Retrieving relevant contexts from a large corp...                  [cs.CL]  \n",
              "4  We propose a new sampling algorithm combining ...                [stat.CO]  \n",
              "5  In this paper we deal with the heat equation w...  [math.AP, 35B65, 35B45]  \n",
              "6  In this paper we introduce and develop the not...                [math.GM]  \n",
              "7  Transfer learning from pretrained language mod...                  [cs.CL]  \n",
              "8  Joint Energy-based Model (JEM) of Grathwohl et...           [cs.CV, cs.LG]  \n",
              "9  Understanding privacy policies is crucial for ...                  [cs.CL]  "
            ]
          },
          "execution_count": 67,
          "metadata": {},
          "output_type": "execute_result"
        }
      ],
      "source": [
        "df.head(10)"
      ]
    },
    {
      "cell_type": "code",
      "execution_count": null,
      "id": "b7c7a0c7-f5ba-4e96-af53-92bf04c55048",
      "metadata": {
        "id": "b7c7a0c7-f5ba-4e96-af53-92bf04c55048",
        "outputId": "97663dd1-10ff-48fc-994d-18ac53c000d8"
      },
      "outputs": [
        {
          "data": {
            "text/plain": [
              "(1263291, 4)"
            ]
          },
          "execution_count": 68,
          "metadata": {},
          "output_type": "execute_result"
        }
      ],
      "source": [
        "df.shape"
      ]
    },
    {
      "cell_type": "markdown",
      "id": "8e0cf790-b2ea-459b-accd-ad983bf27968",
      "metadata": {
        "id": "8e0cf790-b2ea-459b-accd-ad983bf27968"
      },
      "source": [
        "Как видно, записей значительно прибавилось. Скорее всего, уже только это позволит существенно повысить качество классификации."
      ]
    },
    {
      "cell_type": "code",
      "execution_count": null,
      "id": "e11c0e24-01d9-4ee3-a0e8-5254bccb18b2",
      "metadata": {
        "id": "e11c0e24-01d9-4ee3-a0e8-5254bccb18b2"
      },
      "outputs": [],
      "source": [
        "# Так же, как и в первый раз сопоставим теги темам\n",
        "df['topics'] = df['tags'].apply(lambda x: list({tag_to_topic.get(tag) for tag in x if tag in tag_to_topic}))"
      ]
    },
    {
      "cell_type": "code",
      "execution_count": null,
      "id": "4d46006b-b3a7-4746-8ef8-1a8bde014130",
      "metadata": {
        "id": "4d46006b-b3a7-4746-8ef8-1a8bde014130",
        "outputId": "4f8dc419-827e-4336-a8b3-185febefb7d9"
      },
      "outputs": [
        {
          "data": {
            "text/html": [
              "<div>\n",
              "<style scoped>\n",
              "    .dataframe tbody tr th:only-of-type {\n",
              "        vertical-align: middle;\n",
              "    }\n",
              "\n",
              "    .dataframe tbody tr th {\n",
              "        vertical-align: top;\n",
              "    }\n",
              "\n",
              "    .dataframe thead th {\n",
              "        text-align: right;\n",
              "    }\n",
              "</style>\n",
              "<table border=\"1\" class=\"dataframe\">\n",
              "  <thead>\n",
              "    <tr style=\"text-align: right;\">\n",
              "      <th></th>\n",
              "      <th>year</th>\n",
              "      <th>title</th>\n",
              "      <th>summary</th>\n",
              "      <th>tags</th>\n",
              "      <th>topics</th>\n",
              "    </tr>\n",
              "  </thead>\n",
              "  <tbody>\n",
              "    <tr>\n",
              "      <th>0</th>\n",
              "      <td>2021</td>\n",
              "      <td>Entanglement harvesting in the presence of a r...</td>\n",
              "      <td>We study, in the framework of the entanglement...</td>\n",
              "      <td>[quant-ph, gr-qc]</td>\n",
              "      <td>[Physics]</td>\n",
              "    </tr>\n",
              "    <tr>\n",
              "      <th>1</th>\n",
              "      <td>2021</td>\n",
              "      <td>Energy Performance Analysis of Distributed Ren...</td>\n",
              "      <td>The Pacific Northwest Smart Grid Demonstration...</td>\n",
              "      <td>[eess.SY, cs.SY]</td>\n",
              "      <td>[Electrical Engineering and Systems Science, C...</td>\n",
              "    </tr>\n",
              "    <tr>\n",
              "      <th>2</th>\n",
              "      <td>2021</td>\n",
              "      <td>Dynamic system optimal traffic assignment with...</td>\n",
              "      <td>In this study, we analyse the convergence and ...</td>\n",
              "      <td>[math.OC, cs.GT]</td>\n",
              "      <td>[Computer Science, Mathematics]</td>\n",
              "    </tr>\n",
              "    <tr>\n",
              "      <th>3</th>\n",
              "      <td>2021</td>\n",
              "      <td>Multi-task Retrieval for Knowledge-Intensive T...</td>\n",
              "      <td>Retrieving relevant contexts from a large corp...</td>\n",
              "      <td>[cs.CL]</td>\n",
              "      <td>[Computer Science]</td>\n",
              "    </tr>\n",
              "    <tr>\n",
              "      <th>4</th>\n",
              "      <td>2021</td>\n",
              "      <td>A Two Stage Adaptive Metropolis Algorithm</td>\n",
              "      <td>We propose a new sampling algorithm combining ...</td>\n",
              "      <td>[stat.CO]</td>\n",
              "      <td>[Statistics]</td>\n",
              "    </tr>\n",
              "    <tr>\n",
              "      <th>5</th>\n",
              "      <td>2021</td>\n",
              "      <td>On the heat equation with drift in $L_{d+1}$</td>\n",
              "      <td>In this paper we deal with the heat equation w...</td>\n",
              "      <td>[math.AP, 35B65, 35B45]</td>\n",
              "      <td>[Mathematics]</td>\n",
              "    </tr>\n",
              "    <tr>\n",
              "      <th>6</th>\n",
              "      <td>2021</td>\n",
              "      <td>Simple close curve magnetization and applicati...</td>\n",
              "      <td>In this paper we introduce and develop the not...</td>\n",
              "      <td>[math.GM]</td>\n",
              "      <td>[Mathematics]</td>\n",
              "    </tr>\n",
              "    <tr>\n",
              "      <th>7</th>\n",
              "      <td>2021</td>\n",
              "      <td>WARP: Word-level Adversarial ReProgramming</td>\n",
              "      <td>Transfer learning from pretrained language mod...</td>\n",
              "      <td>[cs.CL]</td>\n",
              "      <td>[Computer Science]</td>\n",
              "    </tr>\n",
              "    <tr>\n",
              "      <th>8</th>\n",
              "      <td>2021</td>\n",
              "      <td>Generative Max-Mahalanobis Classifiers for Ima...</td>\n",
              "      <td>Joint Energy-based Model (JEM) of Grathwohl et...</td>\n",
              "      <td>[cs.CV, cs.LG]</td>\n",
              "      <td>[Computer Science]</td>\n",
              "    </tr>\n",
              "    <tr>\n",
              "      <th>9</th>\n",
              "      <td>2021</td>\n",
              "      <td>Intent Classification and Slot Filling for Pri...</td>\n",
              "      <td>Understanding privacy policies is crucial for ...</td>\n",
              "      <td>[cs.CL]</td>\n",
              "      <td>[Computer Science]</td>\n",
              "    </tr>\n",
              "  </tbody>\n",
              "</table>\n",
              "</div>"
            ],
            "text/plain": [
              "   year                                              title  \\\n",
              "0  2021  Entanglement harvesting in the presence of a r...   \n",
              "1  2021  Energy Performance Analysis of Distributed Ren...   \n",
              "2  2021  Dynamic system optimal traffic assignment with...   \n",
              "3  2021  Multi-task Retrieval for Knowledge-Intensive T...   \n",
              "4  2021          A Two Stage Adaptive Metropolis Algorithm   \n",
              "5  2021       On the heat equation with drift in $L_{d+1}$   \n",
              "6  2021  Simple close curve magnetization and applicati...   \n",
              "7  2021         WARP: Word-level Adversarial ReProgramming   \n",
              "8  2021  Generative Max-Mahalanobis Classifiers for Ima...   \n",
              "9  2021  Intent Classification and Slot Filling for Pri...   \n",
              "\n",
              "                                             summary                     tags  \\\n",
              "0  We study, in the framework of the entanglement...        [quant-ph, gr-qc]   \n",
              "1  The Pacific Northwest Smart Grid Demonstration...         [eess.SY, cs.SY]   \n",
              "2  In this study, we analyse the convergence and ...         [math.OC, cs.GT]   \n",
              "3  Retrieving relevant contexts from a large corp...                  [cs.CL]   \n",
              "4  We propose a new sampling algorithm combining ...                [stat.CO]   \n",
              "5  In this paper we deal with the heat equation w...  [math.AP, 35B65, 35B45]   \n",
              "6  In this paper we introduce and develop the not...                [math.GM]   \n",
              "7  Transfer learning from pretrained language mod...                  [cs.CL]   \n",
              "8  Joint Energy-based Model (JEM) of Grathwohl et...           [cs.CV, cs.LG]   \n",
              "9  Understanding privacy policies is crucial for ...                  [cs.CL]   \n",
              "\n",
              "                                              topics  \n",
              "0                                          [Physics]  \n",
              "1  [Electrical Engineering and Systems Science, C...  \n",
              "2                    [Computer Science, Mathematics]  \n",
              "3                                 [Computer Science]  \n",
              "4                                       [Statistics]  \n",
              "5                                      [Mathematics]  \n",
              "6                                      [Mathematics]  \n",
              "7                                 [Computer Science]  \n",
              "8                                 [Computer Science]  \n",
              "9                                 [Computer Science]  "
            ]
          },
          "execution_count": 70,
          "metadata": {},
          "output_type": "execute_result"
        }
      ],
      "source": [
        "df.head(10)"
      ]
    },
    {
      "cell_type": "code",
      "execution_count": null,
      "id": "17a09827-7d6f-496e-ae18-60aa8debd976",
      "metadata": {
        "id": "17a09827-7d6f-496e-ae18-60aa8debd976",
        "outputId": "4e51ec86-6b25-41f2-e4ac-e9bd46c4a8a4"
      },
      "outputs": [
        {
          "data": {
            "image/png": "[encoded data removed]",
            "text/plain": [
              "<Figure size 700x700 with 1 Axes>"
            ]
          },
          "metadata": {},
          "output_type": "display_data"
        }
      ],
      "source": [
        "# Построим распределение статей по темам\n",
        "topic_counts = df[\"topics\"].explode().value_counts().sort_values(ascending=False).reset_index()\n",
        "topic_counts.columns = [\"topic\", \"count\"]\n",
        "\n",
        "plt.figure(figsize=(7, 7))\n",
        "sns.barplot(\n",
        "    data=topic_counts,\n",
        "    x=\"topic\",\n",
        "    y=\"count\",\n",
        "    hue=\"topic\",\n",
        "    dodge=False,\n",
        "    palette=\"viridis\",\n",
        "    legend=False\n",
        ")\n",
        "\n",
        "plt.xticks(rotation=45, ha=\"right\")\n",
        "plt.xlabel(\"Темы\")\n",
        "plt.ylabel(\"Количество статей\")\n",
        "plt.title(\"Распределение статей по темам arXiv\")\n",
        "plt.grid(axis=\"y\", linestyle=\"--\", alpha=0.7)\n",
        "plt.tight_layout()\n",
        "plt.show()"
      ]
    },
    {
      "cell_type": "code",
      "execution_count": null,
      "id": "10cacc1e-ea00-4918-81a7-8104d5b7a6e4",
      "metadata": {
        "id": "10cacc1e-ea00-4918-81a7-8104d5b7a6e4",
        "outputId": "caebf9ec-b280-42c3-de9f-25c4f7524f04"
      },
      "outputs": [
        {
          "data": {
            "text/html": [
              "<div>\n",
              "<style scoped>\n",
              "    .dataframe tbody tr th:only-of-type {\n",
              "        vertical-align: middle;\n",
              "    }\n",
              "\n",
              "    .dataframe tbody tr th {\n",
              "        vertical-align: top;\n",
              "    }\n",
              "\n",
              "    .dataframe thead th {\n",
              "        text-align: right;\n",
              "    }\n",
              "</style>\n",
              "<table border=\"1\" class=\"dataframe\">\n",
              "  <thead>\n",
              "    <tr style=\"text-align: right;\">\n",
              "      <th></th>\n",
              "      <th>topic</th>\n",
              "      <th>count</th>\n",
              "    </tr>\n",
              "  </thead>\n",
              "  <tbody>\n",
              "    <tr>\n",
              "      <th>0</th>\n",
              "      <td>Computer Science</td>\n",
              "      <td>587130</td>\n",
              "    </tr>\n",
              "    <tr>\n",
              "      <th>1</th>\n",
              "      <td>Physics</td>\n",
              "      <td>472609</td>\n",
              "    </tr>\n",
              "    <tr>\n",
              "      <th>2</th>\n",
              "      <td>Mathematics</td>\n",
              "      <td>295232</td>\n",
              "    </tr>\n",
              "    <tr>\n",
              "      <th>3</th>\n",
              "      <td>Electrical Engineering and Systems Science</td>\n",
              "      <td>97852</td>\n",
              "    </tr>\n",
              "    <tr>\n",
              "      <th>4</th>\n",
              "      <td>Statistics</td>\n",
              "      <td>92044</td>\n",
              "    </tr>\n",
              "    <tr>\n",
              "      <th>5</th>\n",
              "      <td>Quantitative Biology</td>\n",
              "      <td>23931</td>\n",
              "    </tr>\n",
              "    <tr>\n",
              "      <th>6</th>\n",
              "      <td>Quantitative Finance</td>\n",
              "      <td>12170</td>\n",
              "    </tr>\n",
              "    <tr>\n",
              "      <th>7</th>\n",
              "      <td>Economics</td>\n",
              "      <td>11082</td>\n",
              "    </tr>\n",
              "  </tbody>\n",
              "</table>\n",
              "</div>"
            ],
            "text/plain": [
              "                                        topic   count\n",
              "0                            Computer Science  587130\n",
              "1                                     Physics  472609\n",
              "2                                 Mathematics  295232\n",
              "3  Electrical Engineering and Systems Science   97852\n",
              "4                                  Statistics   92044\n",
              "5                        Quantitative Biology   23931\n",
              "6                        Quantitative Finance   12170\n",
              "7                                   Economics   11082"
            ]
          },
          "execution_count": 72,
          "metadata": {},
          "output_type": "execute_result"
        }
      ],
      "source": [
        "topic_counts"
      ]
    },
    {
      "cell_type": "markdown",
      "id": "c9729a16-2868-4588-876e-d2e8a30e5330",
      "metadata": {
        "id": "c9729a16-2868-4588-876e-d2e8a30e5330"
      },
      "source": [
        "Что ж, картина выглядит куда интереснее. Несмотря на несбалансированность классов, количества статей по каждой теме должно хватить для обучения трансформера. Подготовим датасет."
      ]
    },
    {
      "cell_type": "code",
      "execution_count": null,
      "id": "bdfb8d15-44b9-4d29-a424-988be10d8ff3",
      "metadata": {
        "id": "bdfb8d15-44b9-4d29-a424-988be10d8ff3"
      },
      "outputs": [],
      "source": [
        "y = df['topics']"
      ]
    },
    {
      "cell_type": "code",
      "execution_count": null,
      "id": "6e14d67e-0b57-4cd9-9a2e-76b4259ab768",
      "metadata": {
        "id": "6e14d67e-0b57-4cd9-9a2e-76b4259ab768"
      },
      "outputs": [],
      "source": [
        "mlb = MultiLabelBinarizer()\n",
        "Y = mlb.fit_transform(y)"
      ]
    },
    {
      "cell_type": "code",
      "execution_count": null,
      "id": "8da12c12-a1a8-423b-b3f9-f9bfdd1a30c8",
      "metadata": {
        "id": "8da12c12-a1a8-423b-b3f9-f9bfdd1a30c8"
      },
      "outputs": [],
      "source": [
        "labels_df = pd.DataFrame(Y, columns=mlb.classes_)"
      ]
    },
    {
      "cell_type": "code",
      "execution_count": null,
      "id": "bea26ae9-4227-4531-b4b2-c1f72bc96aa9",
      "metadata": {
        "id": "bea26ae9-4227-4531-b4b2-c1f72bc96aa9"
      },
      "outputs": [],
      "source": [
        "df['text'] = df['title'] + ' ' + df['summary']"
      ]
    },
    {
      "cell_type": "code",
      "execution_count": null,
      "id": "4238cb03-19c5-4d88-af89-7b0224113179",
      "metadata": {
        "id": "4238cb03-19c5-4d88-af89-7b0224113179"
      },
      "outputs": [],
      "source": [
        "df_encoded = pd.concat([df[[\"text\"]], labels_df], axis=1)"
      ]
    },
    {
      "cell_type": "code",
      "execution_count": null,
      "id": "87318ab2-8b8a-4651-9212-d3a42e83eb6c",
      "metadata": {
        "id": "87318ab2-8b8a-4651-9212-d3a42e83eb6c",
        "outputId": "c32dc317-377a-42b3-9c54-723e33c4b301"
      },
      "outputs": [
        {
          "data": {
            "text/html": [
              "<div>\n",
              "<style scoped>\n",
              "    .dataframe tbody tr th:only-of-type {\n",
              "        vertical-align: middle;\n",
              "    }\n",
              "\n",
              "    .dataframe tbody tr th {\n",
              "        vertical-align: top;\n",
              "    }\n",
              "\n",
              "    .dataframe thead th {\n",
              "        text-align: right;\n",
              "    }\n",
              "</style>\n",
              "<table border=\"1\" class=\"dataframe\">\n",
              "  <thead>\n",
              "    <tr style=\"text-align: right;\">\n",
              "      <th></th>\n",
              "      <th>text</th>\n",
              "      <th>Computer Science</th>\n",
              "      <th>Economics</th>\n",
              "      <th>Electrical Engineering and Systems Science</th>\n",
              "      <th>Mathematics</th>\n",
              "      <th>Physics</th>\n",
              "      <th>Quantitative Biology</th>\n",
              "      <th>Quantitative Finance</th>\n",
              "      <th>Statistics</th>\n",
              "    </tr>\n",
              "  </thead>\n",
              "  <tbody>\n",
              "    <tr>\n",
              "      <th>0</th>\n",
              "      <td>Entanglement harvesting in the presence of a r...</td>\n",
              "      <td>0</td>\n",
              "      <td>0</td>\n",
              "      <td>0</td>\n",
              "      <td>0</td>\n",
              "      <td>1</td>\n",
              "      <td>0</td>\n",
              "      <td>0</td>\n",
              "      <td>0</td>\n",
              "    </tr>\n",
              "    <tr>\n",
              "      <th>1</th>\n",
              "      <td>Energy Performance Analysis of Distributed Ren...</td>\n",
              "      <td>1</td>\n",
              "      <td>0</td>\n",
              "      <td>1</td>\n",
              "      <td>0</td>\n",
              "      <td>0</td>\n",
              "      <td>0</td>\n",
              "      <td>0</td>\n",
              "      <td>0</td>\n",
              "    </tr>\n",
              "    <tr>\n",
              "      <th>2</th>\n",
              "      <td>Dynamic system optimal traffic assignment with...</td>\n",
              "      <td>1</td>\n",
              "      <td>0</td>\n",
              "      <td>0</td>\n",
              "      <td>1</td>\n",
              "      <td>0</td>\n",
              "      <td>0</td>\n",
              "      <td>0</td>\n",
              "      <td>0</td>\n",
              "    </tr>\n",
              "    <tr>\n",
              "      <th>3</th>\n",
              "      <td>Multi-task Retrieval for Knowledge-Intensive T...</td>\n",
              "      <td>1</td>\n",
              "      <td>0</td>\n",
              "      <td>0</td>\n",
              "      <td>0</td>\n",
              "      <td>0</td>\n",
              "      <td>0</td>\n",
              "      <td>0</td>\n",
              "      <td>0</td>\n",
              "    </tr>\n",
              "    <tr>\n",
              "      <th>4</th>\n",
              "      <td>A Two Stage Adaptive Metropolis Algorithm We p...</td>\n",
              "      <td>0</td>\n",
              "      <td>0</td>\n",
              "      <td>0</td>\n",
              "      <td>0</td>\n",
              "      <td>0</td>\n",
              "      <td>0</td>\n",
              "      <td>0</td>\n",
              "      <td>1</td>\n",
              "    </tr>\n",
              "    <tr>\n",
              "      <th>5</th>\n",
              "      <td>On the heat equation with drift in $L_{d+1}$ I...</td>\n",
              "      <td>0</td>\n",
              "      <td>0</td>\n",
              "      <td>0</td>\n",
              "      <td>1</td>\n",
              "      <td>0</td>\n",
              "      <td>0</td>\n",
              "      <td>0</td>\n",
              "      <td>0</td>\n",
              "    </tr>\n",
              "    <tr>\n",
              "      <th>6</th>\n",
              "      <td>Simple close curve magnetization and applicati...</td>\n",
              "      <td>0</td>\n",
              "      <td>0</td>\n",
              "      <td>0</td>\n",
              "      <td>1</td>\n",
              "      <td>0</td>\n",
              "      <td>0</td>\n",
              "      <td>0</td>\n",
              "      <td>0</td>\n",
              "    </tr>\n",
              "    <tr>\n",
              "      <th>7</th>\n",
              "      <td>WARP: Word-level Adversarial ReProgramming Tra...</td>\n",
              "      <td>1</td>\n",
              "      <td>0</td>\n",
              "      <td>0</td>\n",
              "      <td>0</td>\n",
              "      <td>0</td>\n",
              "      <td>0</td>\n",
              "      <td>0</td>\n",
              "      <td>0</td>\n",
              "    </tr>\n",
              "    <tr>\n",
              "      <th>8</th>\n",
              "      <td>Generative Max-Mahalanobis Classifiers for Ima...</td>\n",
              "      <td>1</td>\n",
              "      <td>0</td>\n",
              "      <td>0</td>\n",
              "      <td>0</td>\n",
              "      <td>0</td>\n",
              "      <td>0</td>\n",
              "      <td>0</td>\n",
              "      <td>0</td>\n",
              "    </tr>\n",
              "    <tr>\n",
              "      <th>9</th>\n",
              "      <td>Intent Classification and Slot Filling for Pri...</td>\n",
              "      <td>1</td>\n",
              "      <td>0</td>\n",
              "      <td>0</td>\n",
              "      <td>0</td>\n",
              "      <td>0</td>\n",
              "      <td>0</td>\n",
              "      <td>0</td>\n",
              "      <td>0</td>\n",
              "    </tr>\n",
              "  </tbody>\n",
              "</table>\n",
              "</div>"
            ],
            "text/plain": [
              "                                                text  Computer Science  \\\n",
              "0  Entanglement harvesting in the presence of a r...                 0   \n",
              "1  Energy Performance Analysis of Distributed Ren...                 1   \n",
              "2  Dynamic system optimal traffic assignment with...                 1   \n",
              "3  Multi-task Retrieval for Knowledge-Intensive T...                 1   \n",
              "4  A Two Stage Adaptive Metropolis Algorithm We p...                 0   \n",
              "5  On the heat equation with drift in $L_{d+1}$ I...                 0   \n",
              "6  Simple close curve magnetization and applicati...                 0   \n",
              "7  WARP: Word-level Adversarial ReProgramming Tra...                 1   \n",
              "8  Generative Max-Mahalanobis Classifiers for Ima...                 1   \n",
              "9  Intent Classification and Slot Filling for Pri...                 1   \n",
              "\n",
              "   Economics  Electrical Engineering and Systems Science  Mathematics  \\\n",
              "0          0                                           0            0   \n",
              "1          0                                           1            0   \n",
              "2          0                                           0            1   \n",
              "3          0                                           0            0   \n",
              "4          0                                           0            0   \n",
              "5          0                                           0            1   \n",
              "6          0                                           0            1   \n",
              "7          0                                           0            0   \n",
              "8          0                                           0            0   \n",
              "9          0                                           0            0   \n",
              "\n",
              "   Physics  Quantitative Biology  Quantitative Finance  Statistics  \n",
              "0        1                     0                     0           0  \n",
              "1        0                     0                     0           0  \n",
              "2        0                     0                     0           0  \n",
              "3        0                     0                     0           0  \n",
              "4        0                     0                     0           1  \n",
              "5        0                     0                     0           0  \n",
              "6        0                     0                     0           0  \n",
              "7        0                     0                     0           0  \n",
              "8        0                     0                     0           0  \n",
              "9        0                     0                     0           0  "
            ]
          },
          "execution_count": 79,
          "metadata": {},
          "output_type": "execute_result"
        }
      ],
      "source": [
        "df_encoded.head(10)"
      ]
    },
    {
      "cell_type": "code",
      "execution_count": null,
      "id": "85f159be-2cf1-4b33-9b64-2be64c433a78",
      "metadata": {
        "id": "85f159be-2cf1-4b33-9b64-2be64c433a78"
      },
      "outputs": [],
      "source": [
        "# Разделим датасет на трейн и тест\n",
        "train_df, val_df = train_test_split(df_encoded, test_size=0.1, random_state=42)"
      ]
    },
    {
      "cell_type": "code",
      "execution_count": null,
      "id": "98bd0b84-0444-48f0-ba52-1e6127a40437",
      "metadata": {
        "id": "98bd0b84-0444-48f0-ba52-1e6127a40437"
      },
      "outputs": [],
      "source": [
        "# Инициализируем токенайзер\n",
        "model_name = \"distilbert-base-cased\"\n",
        "tokenizer = AutoTokenizer.from_pretrained(model_name)"
      ]
    },
    {
      "cell_type": "code",
      "execution_count": null,
      "id": "3a028db7-cfa8-4436-a1ab-6cfe5a5bfa78",
      "metadata": {
        "id": "3a028db7-cfa8-4436-a1ab-6cfe5a5bfa78"
      },
      "outputs": [],
      "source": [
        "# Преобразуем трейн и тест в экземпляры `Dataset`\n",
        "train_dataset = Dataset.from_pandas(train_df)\n",
        "val_dataset = Dataset.from_pandas(val_df)"
      ]
    },
    {
      "cell_type": "code",
      "execution_count": null,
      "id": "95955c56-6a06-4c18-b1de-17f4cd0373ad",
      "metadata": {
        "colab": {
          "referenced_widgets": [
            "4592e8d4eb4c4111818bb49fe4dda8f9",
            "761b3e3460d045d783fdfc4dbedc18d0"
          ]
        },
        "id": "95955c56-6a06-4c18-b1de-17f4cd0373ad",
        "outputId": "c092af9b-01cb-4d3e-f0c8-b168f3c1cc0d"
      },
      "outputs": [
        {
          "data": {
            "application/vnd.jupyter.widget-view+json": {
              "model_id": "4592e8d4eb4c4111818bb49fe4dda8f9",
              "version_major": 2,
              "version_minor": 0
            },
            "text/plain": [
              "Map:   0%|          | 0/1136961 [00:00<?, ? examples/s]"
            ]
          },
          "metadata": {},
          "output_type": "display_data"
        },
        {
          "data": {
            "application/vnd.jupyter.widget-view+json": {
              "model_id": "761b3e3460d045d783fdfc4dbedc18d0",
              "version_major": 2,
              "version_minor": 0
            },
            "text/plain": [
              "Map:   0%|          | 0/126330 [00:00<?, ? examples/s]"
            ]
          },
          "metadata": {},
          "output_type": "display_data"
        }
      ],
      "source": [
        "# Токенизируем датасет\n",
        "train_dataset = train_dataset.map(tokenize_and_format)\n",
        "val_dataset = val_dataset.map(tokenize_and_format)"
      ]
    },
    {
      "cell_type": "code",
      "execution_count": null,
      "id": "f98bfffb-83f2-4a2f-9ef0-a6aa055d2570",
      "metadata": {
        "id": "f98bfffb-83f2-4a2f-9ef0-a6aa055d2570"
      },
      "outputs": [],
      "source": [
        "# Удалим ненужные колонки из датасета\n",
        "train_dataset = train_dataset.remove_columns(train_df.columns.difference([\"text\"] + mlb.classes_).tolist())\n",
        "val_dataset = val_dataset.remove_columns(val_df.columns.difference([\"text\"] + mlb.classes_).tolist())"
      ]
    },
    {
      "cell_type": "markdown",
      "id": "096701ed-4ae4-4f62-8501-bb4b02b0568d",
      "metadata": {
        "id": "096701ed-4ae4-4f62-8501-bb4b02b0568d"
      },
      "source": [
        "## 13. Обучение модели"
      ]
    },
    {
      "cell_type": "code",
      "execution_count": null,
      "id": "f42c0d46-1fc0-4b77-816a-3bc5132ac173",
      "metadata": {
        "id": "f42c0d46-1fc0-4b77-816a-3bc5132ac173",
        "outputId": "f5977a15-a849-4a5d-b570-0a4761f8a05b"
      },
      "outputs": [
        {
          "name": "stderr",
          "output_type": "stream",
          "text": [
            "Some weights of DistilBertForSequenceClassification were not initialized from the model checkpoint at distilbert-base-cased and are newly initialized: ['classifier.bias', 'classifier.weight', 'pre_classifier.bias', 'pre_classifier.weight']\n",
            "You should probably TRAIN this model on a down-stream task to be able to use it for predictions and inference.\n"
          ]
        }
      ],
      "source": [
        "# Инициализируем модель\n",
        "model = AutoModelForSequenceClassification.from_pretrained(\n",
        "    model_name,\n",
        "    num_labels=len(mlb.classes_),\n",
        "    problem_type=\"multi_label_classification\"\n",
        ")"
      ]
    },
    {
      "cell_type": "code",
      "execution_count": null,
      "id": "8c05481f-8ac4-45ca-aade-a311b8d1bf57",
      "metadata": {
        "id": "8c05481f-8ac4-45ca-aade-a311b8d1bf57"
      },
      "outputs": [],
      "source": [
        "# Настроим параметры обучения модели\n",
        "training_args = TrainingArguments(\n",
        "    output_dir=\"./raw_data/results\",\n",
        "    eval_strategy=\"epoch\",\n",
        "    save_strategy=\"epoch\",\n",
        "    per_device_train_batch_size=8,\n",
        "    per_device_eval_batch_size=8,\n",
        "    num_train_epochs=3,\n",
        "    learning_rate=2e-5,\n",
        "    weight_decay=0.01,\n",
        "    logging_dir=\"./raw_data/logs\",\n",
        "    load_best_model_at_end=True,\n",
        "    metric_for_best_model=\"f1_micro\",\n",
        ")"
      ]
    },
    {
      "cell_type": "code",
      "execution_count": null,
      "id": "a13caa3d-2846-4b50-9083-80834cc13031",
      "metadata": {
        "id": "a13caa3d-2846-4b50-9083-80834cc13031"
      },
      "outputs": [],
      "source": [
        "# Инициализируем трейнер\n",
        "trainer = Trainer(\n",
        "    model=model,\n",
        "    args=training_args,\n",
        "    train_dataset=train_dataset,\n",
        "    eval_dataset=val_dataset,\n",
        "    tokenizer=tokenizer,\n",
        "    compute_metrics=compute_metrics,\n",
        ")"
      ]
    },
    {
      "cell_type": "code",
      "execution_count": null,
      "id": "97eae7a9-4937-46df-aeb8-2738b7fc50dd",
      "metadata": {
        "id": "97eae7a9-4937-46df-aeb8-2738b7fc50dd",
        "outputId": "0de45481-c160-4a67-ca42-dc7f4c0b558b"
      },
      "outputs": [
        {
          "name": "stderr",
          "output_type": "stream",
          "text": [
            "Could not locate the best model at ./results/checkpoint-426363/pytorch_model.bin, if you are running a distributed training on multiple nodes, you should activate `--save_on_each_node`.\n"
          ]
        },
        {
          "data": {
            "text/html": [
              "\n",
              "    <div>\n",
              "      \n",
              "      <progress value='426363' max='426363' style='width:300px; height:20px; vertical-align: middle;'></progress>\n",
              "      [426363/426363 : < :, Epoch 3/3]\n",
              "    </div>\n",
              "    <table border=\"1\" class=\"dataframe\">\n",
              "  <thead>\n",
              " <tr style=\"text-align: left;\">\n",
              "      <th>Epoch</th>\n",
              "      <th>Training Loss</th>\n",
              "      <th>Validation Loss</th>\n",
              "    </tr>\n",
              "  </thead>\n",
              "  <tbody>\n",
              "  </tbody>\n",
              "</table><p>"
            ],
            "text/plain": [
              "<IPython.core.display.HTML object>"
            ]
          },
          "metadata": {},
          "output_type": "display_data"
        },
        {
          "data": {
            "text/plain": [
              "TrainOutput(global_step=426363, training_loss=0.0, metrics={'train_runtime': 0.0035, 'train_samples_per_second': 972554738.982, 'train_steps_per_second': 121570090.846, 'total_flos': 4.518791446950789e+17, 'train_loss': 0.0, 'epoch': 3.0})"
            ]
          },
          "execution_count": 89,
          "metadata": {},
          "output_type": "execute_result"
        }
      ],
      "source": [
        "# Обучим модель\n",
        "trainer.train(resume_from_checkpoint=True)"
      ]
    },
    {
      "cell_type": "markdown",
      "id": "4f777b07-554f-4c65-b5ec-3245e8a5f822",
      "metadata": {
        "id": "4f777b07-554f-4c65-b5ec-3245e8a5f822"
      },
      "source": [
        "## 14. Оценка модели"
      ]
    },
    {
      "cell_type": "code",
      "execution_count": null,
      "id": "f9612220-49b3-4398-aea5-c2844a9c7ccc",
      "metadata": {
        "id": "f9612220-49b3-4398-aea5-c2844a9c7ccc",
        "outputId": "faeab32e-64ee-496e-ffe3-bd3727403ede"
      },
      "outputs": [
        {
          "data": {
            "text/html": [],
            "text/plain": [
              "<IPython.core.display.HTML object>"
            ]
          },
          "metadata": {},
          "output_type": "display_data"
        }
      ],
      "source": [
        "# Посчитаем метрики\n",
        "predictions = trainer.predict(val_dataset)\n",
        "preds = (torch.sigmoid(torch.tensor(predictions.predictions)) > 0.5).int().numpy()\n",
        "true = predictions.label_ids.astype(int)"
      ]
    },
    {
      "cell_type": "code",
      "execution_count": null,
      "id": "4e39250c-0a3a-47ec-a0a1-7282905a4bcf",
      "metadata": {
        "id": "4e39250c-0a3a-47ec-a0a1-7282905a4bcf",
        "outputId": "e0048a16-86d7-4fff-f985-78831c3645c0"
      },
      "outputs": [
        {
          "name": "stdout",
          "output_type": "stream",
          "text": [
            "                                            precision    recall  f1-score   support\n",
            "\n",
            "                          Computer Science       0.94      0.95      0.94     58706\n",
            "                                 Economics       0.77      0.61      0.68      1121\n",
            "Electrical Engineering and Systems Science       0.74      0.68      0.71      9755\n",
            "                               Mathematics       0.91      0.87      0.89     29441\n",
            "                                   Physics       0.97      0.95      0.96     47344\n",
            "                      Quantitative Biology       0.75      0.62      0.68      2316\n",
            "                      Quantitative Finance       0.77      0.70      0.73      1215\n",
            "                                Statistics       0.77      0.61      0.68      9073\n",
            "\n",
            "                                 micro avg       0.92      0.89      0.90    158971\n",
            "                                 macro avg       0.83      0.75      0.78    158971\n",
            "                              weighted avg       0.92      0.89      0.90    158971\n",
            "                               samples avg       0.95      0.93      0.93    158971\n",
            "\n"
          ]
        }
      ],
      "source": [
        "# Выведем отчёт\n",
        "print(classification_report(true, preds, target_names=mlb.classes_, zero_division=0))"
      ]
    },
    {
      "cell_type": "markdown",
      "id": "6db7c5e9-eefc-4c7a-991c-db273b717746",
      "metadata": {
        "id": "6db7c5e9-eefc-4c7a-991c-db273b717746"
      },
      "source": [
        "На этот раз метрики выглядят значительно лучше."
      ]
    },
    {
      "cell_type": "markdown",
      "id": "6502bc76-3530-4153-be7c-e42c01ac363f",
      "metadata": {
        "id": "6502bc76-3530-4153-be7c-e42c01ac363f"
      },
      "source": [
        "## 15. Попытка обучить ещё бóльшую модель\n",
        "\n",
        "Можно попробовать обучить `microsoft/deberta-v3-base`, правда, обучение может занять довольно много времени. Попробуем обучить на одной эпохе и посмотреть метрики. Есть шанс, что даже после одной эпохи модель покажет лучшие результаты и тогда её можно будет брать в прод. А если метрики будут хуже, то, в зависимости от ресурсов, либо возьмём предыдущую модель, либо ещё пообучаем эту."
      ]
    },
    {
      "cell_type": "code",
      "execution_count": null,
      "id": "b8f0110a-6d08-4945-98a9-de1a219e8d47",
      "metadata": {
        "id": "b8f0110a-6d08-4945-98a9-de1a219e8d47"
      },
      "outputs": [],
      "source": [
        "# Инициализируем токенайзер\n",
        "model_name_2 = \"microsoft/deberta-v3-base\"\n",
        "tokenizer_2 = AutoTokenizer.from_pretrained(model_name)"
      ]
    },
    {
      "cell_type": "code",
      "execution_count": null,
      "id": "44d20274-d5b0-4e11-b2d4-28655ba60280",
      "metadata": {
        "id": "44d20274-d5b0-4e11-b2d4-28655ba60280",
        "outputId": "5920da5f-85a8-42d2-a9dc-6a563fcedd34"
      },
      "outputs": [
        {
          "name": "stderr",
          "output_type": "stream",
          "text": [
            "Some weights of DebertaV2ForSequenceClassification were not initialized from the model checkpoint at microsoft/deberta-v3-base and are newly initialized: ['classifier.bias', 'classifier.weight', 'pooler.dense.bias', 'pooler.dense.weight']\n",
            "You should probably TRAIN this model on a down-stream task to be able to use it for predictions and inference.\n"
          ]
        }
      ],
      "source": [
        "# Инициализируем модель\n",
        "model_deberta = AutoModelForSequenceClassification.from_pretrained(\n",
        "    model_name_2,\n",
        "    num_labels=len(mlb.classes_),\n",
        "    problem_type=\"multi_label_classification\"\n",
        ")"
      ]
    },
    {
      "cell_type": "code",
      "execution_count": null,
      "id": "1f2aaa63-3b6d-4a3b-88c6-f9da5ecdd2f6",
      "metadata": {
        "id": "1f2aaa63-3b6d-4a3b-88c6-f9da5ecdd2f6"
      },
      "outputs": [],
      "source": [
        "# Настроим параметры обучения модели\n",
        "training_args_deberta = TrainingArguments(\n",
        "    output_dir=\"./raw_data/results_deberta\",\n",
        "    eval_strategy=\"epoch\",\n",
        "    save_strategy=\"epoch\",\n",
        "    per_device_train_batch_size=4,  # DeBERTa тяжелее!\n",
        "    per_device_eval_batch_size=4,\n",
        "    num_train_epochs=1,\n",
        "    learning_rate=2e-5,\n",
        "    weight_decay=0.01,\n",
        "    logging_dir=\"./raw_data/logs_deberta\",\n",
        "    load_best_model_at_end=True,\n",
        "    metric_for_best_model=\"f1_micro\",\n",
        "    save_total_limit=2,  # чтобы не забить диск\n",
        ")"
      ]
    },
    {
      "cell_type": "code",
      "execution_count": null,
      "id": "c88dd547-8121-477e-b004-7b0f7da929ec",
      "metadata": {
        "id": "c88dd547-8121-477e-b004-7b0f7da929ec"
      },
      "outputs": [],
      "source": [
        "# Инициализируем трейнер\n",
        "trainer = Trainer(\n",
        "    model=model_deberta,\n",
        "    args=training_args_deberta,\n",
        "    train_dataset=train_dataset,\n",
        "    eval_dataset=val_dataset,\n",
        "    tokenizer=tokenizer_2,\n",
        "    compute_metrics=compute_metrics,\n",
        ")"
      ]
    },
    {
      "cell_type": "code",
      "execution_count": null,
      "id": "cfc70e48-2608-4c31-8092-c435abd858ff",
      "metadata": {
        "id": "cfc70e48-2608-4c31-8092-c435abd858ff",
        "outputId": "77b81fc1-3e37-4c91-85e6-ab7d0ada5a0c"
      },
      "outputs": [
        {
          "name": "stderr",
          "output_type": "stream",
          "text": [
            "Could not locate the best model at ./results_deberta/checkpoint-284241/pytorch_model.bin, if you are running a distributed training on multiple nodes, you should activate `--save_on_each_node`.\n"
          ]
        },
        {
          "data": {
            "text/html": [
              "\n",
              "    <div>\n",
              "      \n",
              "      <progress value='284241' max='284241' style='width:300px; height:20px; vertical-align: middle;'></progress>\n",
              "      [284241/284241 : < :, Epoch 1/1]\n",
              "    </div>\n",
              "    <table border=\"1\" class=\"dataframe\">\n",
              "  <thead>\n",
              " <tr style=\"text-align: left;\">\n",
              "      <th>Epoch</th>\n",
              "      <th>Training Loss</th>\n",
              "      <th>Validation Loss</th>\n",
              "    </tr>\n",
              "  </thead>\n",
              "  <tbody>\n",
              "  </tbody>\n",
              "</table><p>"
            ],
            "text/plain": [
              "<IPython.core.display.HTML object>"
            ]
          },
          "metadata": {},
          "output_type": "display_data"
        },
        {
          "data": {
            "text/plain": [
              "TrainOutput(global_step=284241, training_loss=0.0, metrics={'train_runtime': 0.0031, 'train_samples_per_second': 371196393.722, 'train_steps_per_second': 92799343.291, 'total_flos': 2.9916848898994176e+17, 'train_loss': 0.0, 'epoch': 1.0})"
            ]
          },
          "execution_count": 96,
          "metadata": {},
          "output_type": "execute_result"
        }
      ],
      "source": [
        "# Обучим модель\n",
        "trainer.train(resume_from_checkpoint=True)"
      ]
    },
    {
      "cell_type": "code",
      "execution_count": null,
      "id": "9594e6ee-04a4-45cd-a0e8-cea9a59ab306",
      "metadata": {
        "id": "9594e6ee-04a4-45cd-a0e8-cea9a59ab306",
        "outputId": "b44b2600-6c6f-481a-b999-bd70de7edc4e"
      },
      "outputs": [
        {
          "data": {
            "text/html": [],
            "text/plain": [
              "<IPython.core.display.HTML object>"
            ]
          },
          "metadata": {},
          "output_type": "display_data"
        }
      ],
      "source": [
        "# Посчитаем метрики\n",
        "predictions = trainer.predict(val_dataset)\n",
        "preds = (torch.sigmoid(torch.tensor(predictions.predictions)) > 0.5).int().numpy()\n",
        "true = predictions.label_ids.astype(int)"
      ]
    },
    {
      "cell_type": "code",
      "execution_count": null,
      "id": "879246ec-2b66-4bf1-b88c-7372a3518267",
      "metadata": {
        "id": "879246ec-2b66-4bf1-b88c-7372a3518267",
        "outputId": "c07fbb2b-2c67-4e26-d975-4e0b0609e7a0"
      },
      "outputs": [
        {
          "name": "stdout",
          "output_type": "stream",
          "text": [
            "                                            precision    recall  f1-score   support\n",
            "\n",
            "                          Computer Science       0.00      0.00      0.00     58706\n",
            "                                 Economics       0.00      0.00      0.00      1121\n",
            "Electrical Engineering and Systems Science       0.00      0.00      0.00      9755\n",
            "                               Mathematics       0.00      0.00      0.00     29441\n",
            "                                   Physics       0.37      1.00      0.55     47344\n",
            "                      Quantitative Biology       0.00      0.00      0.00      2316\n",
            "                      Quantitative Finance       0.00      0.00      0.00      1215\n",
            "                                Statistics       0.00      0.00      0.00      9073\n",
            "\n",
            "                                 micro avg       0.37      0.30      0.33    158971\n",
            "                                 macro avg       0.05      0.12      0.07    158971\n",
            "                              weighted avg       0.11      0.30      0.16    158971\n",
            "                               samples avg       0.37      0.34      0.35    158971\n",
            "\n"
          ]
        }
      ],
      "source": [
        "# Выведем отчёт\n",
        "print(classification_report(true, preds, target_names=mlb.classes_, zero_division=0))"
      ]
    },
    {
      "cell_type": "markdown",
      "id": "f2d2b6e0-e58d-4b65-b45f-45ec17d590b4",
      "metadata": {
        "id": "f2d2b6e0-e58d-4b65-b45f-45ec17d590b4"
      },
      "source": [
        "В общем, на одной эпохе метрики несоизмеримо хуже, чем у предыдущей модели. Так как задача комплексная и в реальности такие задачи подразумевают итеративное улучшение, можно брать лучшую на текущий момент модель и использовать её для сервиса. В будущем можно будет попробовать дообучить модель `deberta-v3-base` или попробовать какие-то другие."
      ]
    },
    {
      "cell_type": "markdown",
      "id": "01d57fcf-b2cc-44c9-9db0-8fdab7436027",
      "metadata": {
        "id": "01d57fcf-b2cc-44c9-9db0-8fdab7436027"
      },
      "source": [
        "## 16. Выбор модели для прода\n",
        "\n",
        "По результатам оценки для продакшна возьмём обученную на полном наборе данных модель `distilbert`."
      ]
    },
    {
      "cell_type": "markdown",
      "id": "101e8755-c855-4007-9486-a53349b9ae2d",
      "metadata": {
        "id": "101e8755-c855-4007-9486-a53349b9ae2d"
      },
      "source": [
        "## 17. Создание сервисов вокруг обученной модели\n",
        "\n",
        "Сервис будет состоять из следующих компонентов:\n",
        "\n",
        "1. Микросервис (воркер) с моделью\n",
        "2. Фронтенд на gradio\n",
        "3. Телеграм-бот (на aiogram)\n",
        "4. Брокер сообщений (NATS)\n",
        "\n",
        "Такая архитектура во-первых, позволит горизонтально масштабироваться в случае возрастания нагрузки (за счёт поднятия нескольких инстансов воркеров), а во-вторых, использовать одну и ту же модель для разных интерфейсов (веб-браузер, бот, API и т.п.)"
      ]
    },
    {
      "cell_type": "markdown",
      "id": "febc823d-5558-442f-8c8e-872452392bcb",
      "metadata": {
        "id": "febc823d-5558-442f-8c8e-872452392bcb"
      },
      "source": [
        "## 18. Подготовка сервера для размещения проекта\n",
        "\n",
        "Так как в наличии есть компьютер с видеокартой **rtx3090**, то имеет смысл микросервис с моделью разместить на нём. При этом компьютер находится за NAT провайдера, а потому недоступен извне. Для работы телеграм-бота это не является проблемой, если запускать его на поллинге, а для веб-сервиса желателен белый IP-адрес. Можно, конечно, разместить его на бесплатных ресурсах, типа, huggingface или на серверах самого gradio, но в таком случае остаётся намного меньше контроля, и это недостаточно удобно, если настраивать нормальный CI/CD.\n",
        "\n",
        "С учётом того, что в наличии есть арендованный маломощный сервер с белым IP, - можно настроить на компьютере с видеокартой обратный туннель с пробросом портов веб-сервера gradio наружу. Для бесперебойной работы туннеля необходимо оформить его как `systemd`-сервис, который будет автоматически перезапускаться в случае сбоев."
      ]
    },
    {
      "cell_type": "markdown",
      "id": "ebbe16b0-4590-4351-9f96-30ba0ab397f9",
      "metadata": {
        "id": "ebbe16b0-4590-4351-9f96-30ba0ab397f9"
      },
      "source": [
        "## 19. Настройка всех компонентов проекта на сервере\n",
        "\n",
        "Для автоматизации развёртывания хорошо подходит Docker, но в случае с моделью, требующей доступка к GPU, нужны дополнительные настройки. На текущий момент микросервис запущен как `systemd`-сервис, а перенос в Docker можно планировать как дальнейшее улучшение сервиса. Телеграм-бот и веб-сервер gradio разворачиваются в докере.\n",
        "\n",
        "Также для сохранения информации о пользователях бота поднята СУБД PostgreSQL также в докере. В качестве брокера сообщений используется NATS (также в докере)."
      ]
    },
    {
      "cell_type": "markdown",
      "id": "2d837db2-3dc1-4367-bf66-7bbd1d238edc",
      "metadata": {
        "id": "2d837db2-3dc1-4367-bf66-7bbd1d238edc"
      },
      "source": [
        "## 20. Запуск и тестирование развёрнутого сервиса\n",
        "\n",
        "На текущий момент демо-сервис классификации научных статей по темам доступен по следующим ссылкам:\n",
        "\n",
        "1. **Телеграм-бот**: [https://t.me/arxiv_topic_classifier_bot](https://t.me/arxiv_topic_classifier_bot)\n",
        "2. **Веб-сервер**: [http://77.73.71.233:7860](http://77.73.71.233:7860)"
      ]
    },
    {
      "cell_type": "markdown",
      "id": "d862265d-8bc4-47a8-9267-c81e40dd846b",
      "metadata": {
        "id": "d862265d-8bc4-47a8-9267-c81e40dd846b"
      },
      "source": [
        "## 21. Возможные направления для улучшения\n",
        "\n",
        "1. Обучение более мощных моделей, если требуется ещё большая точность классификации.\n",
        "2. Настройка автоматизированного пайплайна CI/CD.\n",
        "3. Доработка веб-интерфейса (выбор другого дизайна, добавление функционала).\n",
        "4. Проведение нагрузочного тестирования, чтобы оценить сколько пользователей одновременно комфортно могут пользоваться сервисом.\n",
        "5. Переезд на k8s для автоматизации масштабирования\n",
        "6. Доработка функционала телеграм-бота (в частности, можно сохранять запросы пользователей для дальнейшего анализа)\n",
        "7. Переезд с `gradio` на какой-нибудь `npx`"
      ]
    }
  ],
  "metadata": {
    "kernelspec": {
      "display_name": "Python 3 (ipykernel)",
      "language": "python",
      "name": "python3"
    },
    "language_info": {
      "codemirror_mode": {
        "name": "ipython",
        "version": 3
      },
      "file_extension": ".py",
      "mimetype": "text/x-python",
      "name": "python",
      "nbconvert_exporter": "python",
      "pygments_lexer": "ipython3",
      "version": "3.12.3"
    },
    "colab": {
      "provenance": []
    }
  },
  "nbformat": 4,
  "nbformat_minor": 5
}